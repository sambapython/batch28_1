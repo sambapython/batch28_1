{
 "cells": [
  {
   "cell_type": "code",
   "execution_count": 1,
   "metadata": {
    "collapsed": true
   },
   "outputs": [],
   "source": [
    "import psycopg2"
   ]
  },
  {
   "cell_type": "code",
   "execution_count": 5,
   "metadata": {
    "collapsed": false
   },
   "outputs": [],
   "source": [
    "con = psycopg2.connect(database=\"db2\",user=\"tcloudost\",password=\"root\",host=\"localhost\",port=5432)"
   ]
  },
  {
   "cell_type": "code",
   "execution_count": 6,
   "metadata": {
    "collapsed": false
   },
   "outputs": [],
   "source": [
    "cur=con.cursor()"
   ]
  },
  {
   "cell_type": "code",
   "execution_count": 7,
   "metadata": {
    "collapsed": true
   },
   "outputs": [],
   "source": [
    "cur.execute(\"create table persons (id int, name varchar(50))\")"
   ]
  },
  {
   "cell_type": "code",
   "execution_count": 9,
   "metadata": {
    "collapsed": false
   },
   "outputs": [
    {
     "ename": "InternalError",
     "evalue": "current transaction is aborted, commands ignored until end of transaction block\n",
     "output_type": "error",
     "traceback": [
      "\u001b[0;31m---------------------------------------------------------------------------\u001b[0m",
      "\u001b[0;31mInternalError\u001b[0m                             Traceback (most recent call last)",
      "\u001b[0;32m<ipython-input-9-14f5a0f13b3d>\u001b[0m in \u001b[0;36m<module>\u001b[0;34m()\u001b[0m\n\u001b[0;32m----> 1\u001b[0;31m \u001b[0mcur\u001b[0m\u001b[0;34m.\u001b[0m\u001b[0mexecute\u001b[0m\u001b[0;34m(\u001b[0m\u001b[0;34m\"insert into persons values(0,'name0')\"\u001b[0m\u001b[0;34m)\u001b[0m\u001b[0;34m\u001b[0m\u001b[0m\n\u001b[0m\u001b[1;32m      2\u001b[0m \u001b[0mcon\u001b[0m\u001b[0;34m.\u001b[0m\u001b[0mcommit\u001b[0m\u001b[0;34m(\u001b[0m\u001b[0;34m)\u001b[0m\u001b[0;34m\u001b[0m\u001b[0m\n",
      "\u001b[0;31mInternalError\u001b[0m: current transaction is aborted, commands ignored until end of transaction block\n"
     ]
    }
   ],
   "source": [
    "cur.execute(\"insert into persons values(0,'name0')\")\n",
    "con.commit()"
   ]
  },
  {
   "cell_type": "code",
   "execution_count": 12,
   "metadata": {
    "collapsed": false
   },
   "outputs": [],
   "source": [
    "try:\n",
    "    con = psycopg2.connect(database=\"db2\",user=\"tcloudost\",\n",
    "                           password=\"root\",host=\"localhost\",\n",
    "                           port=5432)\n",
    "    cur=con.cursor()\n",
    "    cur.execute(\"create table persons (id int, name varchar(50))\")\n",
    "    cur.execute(\"insert into persons values(0,'name0')\")\n",
    "    con.commit()\n",
    "except Exception as err:\n",
    "    print err\n",
    "finally:\n",
    "    cur.close()\n",
    "    con.close()"
   ]
  },
  {
   "cell_type": "code",
   "execution_count": 13,
   "metadata": {
    "collapsed": true
   },
   "outputs": [],
   "source": [
    "try:\n",
    "    con = psycopg2.connect(database=\"db2\",user=\"tcloudost\",\n",
    "                           password=\"root\",host=\"localhost\",\n",
    "                           port=5432)\n",
    "    cur=con.cursor()\n",
    "    #cur.execute(\"create table persons (id int, name varchar(50))\")\n",
    "    for i in range(100):\n",
    "        cur.execute(\"insert into persons values({0},'name{0}')\".format(i))\n",
    "    con.commit()\n",
    "except Exception as err:\n",
    "    print err\n",
    "finally:\n",
    "    cur.close()\n",
    "    con.close()"
   ]
  },
  {
   "cell_type": "code",
   "execution_count": 14,
   "metadata": {
    "collapsed": true
   },
   "outputs": [],
   "source": [
    "try:\n",
    "    con = psycopg2.connect(database=\"db2\",user=\"tcloudost\",\n",
    "                           password=\"root\",host=\"localhost\",\n",
    "                           port=5432)\n",
    "    cur=con.cursor()\n",
    "    #cur.execute(\"create table persons (id int, name varchar(50))\")\n",
    "    cur.execute(\"update persons set name='modified name of 5' where id=5\")\n",
    "    con.commit()\n",
    "except Exception as err:\n",
    "    print err\n",
    "finally:\n",
    "    cur.close()\n",
    "    con.close()"
   ]
  },
  {
   "cell_type": "code",
   "execution_count": 15,
   "metadata": {
    "collapsed": false
   },
   "outputs": [
    {
     "name": "stdout",
     "output_type": "stream",
     "text": [
      "[(5, 'modified name of 5')]\n"
     ]
    }
   ],
   "source": [
    "try:\n",
    "    con = psycopg2.connect(database=\"db2\",user=\"tcloudost\",\n",
    "                           password=\"root\",host=\"localhost\",\n",
    "                           port=5432)\n",
    "    cur=con.cursor()\n",
    "    #cur.execute(\"create table persons (id int, name varchar(50))\")\n",
    "    cur.execute(\"select * from persons where id=5\")\n",
    "    print cur.fetchall()\n",
    "    con.commit()\n",
    "except Exception as err:\n",
    "    print err\n",
    "finally:\n",
    "    cur.close()\n",
    "    con.close()"
   ]
  },
  {
   "cell_type": "code",
   "execution_count": 17,
   "metadata": {
    "collapsed": false
   },
   "outputs": [],
   "source": [
    "try:\n",
    "    con = psycopg2.connect(database=\"db2\",user=\"tcloudost\",\n",
    "                           password=\"root\",host=\"localhost\",\n",
    "                           port=5432)\n",
    "    cur=con.cursor()\n",
    "    #cur.execute(\"create table persons (id int, name varchar(50))\")\n",
    "    cur.execute(\"delete from persons where id=5\")\n",
    "    con.commit()\n",
    "except Exception as err:\n",
    "    print err\n",
    "finally:\n",
    "    cur.close()\n",
    "    con.close()"
   ]
  },
  {
   "cell_type": "code",
   "execution_count": null,
   "metadata": {
    "collapsed": true
   },
   "outputs": [],
   "source": []
  }
 ],
 "metadata": {
  "kernelspec": {
   "display_name": "Python 2",
   "language": "python",
   "name": "python2"
  },
  "language_info": {
   "codemirror_mode": {
    "name": "ipython",
    "version": 2
   },
   "file_extension": ".py",
   "mimetype": "text/x-python",
   "name": "python",
   "nbconvert_exporter": "python",
   "pygments_lexer": "ipython2",
   "version": "2.7.13"
  }
 },
 "nbformat": 4,
 "nbformat_minor": 2
}

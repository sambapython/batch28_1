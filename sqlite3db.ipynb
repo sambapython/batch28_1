{
 "cells": [
  {
   "cell_type": "code",
   "execution_count": 1,
   "metadata": {
    "collapsed": true
   },
   "outputs": [],
   "source": [
    "import sqlite3"
   ]
  },
  {
   "cell_type": "code",
   "execution_count": 2,
   "metadata": {
    "collapsed": true
   },
   "outputs": [],
   "source": [
    "con = sqlite3.connect('db1.db')"
   ]
  },
  {
   "cell_type": "code",
   "execution_count": 3,
   "metadata": {
    "collapsed": true
   },
   "outputs": [],
   "source": [
    "cur=con.cursor()"
   ]
  },
  {
   "cell_type": "code",
   "execution_count": 4,
   "metadata": {
    "collapsed": false
   },
   "outputs": [
    {
     "data": {
      "text/plain": [
       "<sqlite3.Cursor at 0x7ffb40542f10>"
      ]
     },
     "execution_count": 4,
     "metadata": {},
     "output_type": "execute_result"
    }
   ],
   "source": [
    "cur.execute(\"create table persons(id int, name varchar(50))\")"
   ]
  },
  {
   "cell_type": "code",
   "execution_count": 5,
   "metadata": {
    "collapsed": false
   },
   "outputs": [
    {
     "data": {
      "text/plain": [
       "<sqlite3.Cursor at 0x7ffb40542f10>"
      ]
     },
     "execution_count": 5,
     "metadata": {},
     "output_type": "execute_result"
    }
   ],
   "source": [
    "cur.execute(\"insert into persons values(1,'name1')\")"
   ]
  },
  {
   "cell_type": "code",
   "execution_count": 6,
   "metadata": {
    "collapsed": true
   },
   "outputs": [],
   "source": [
    "cur.close()"
   ]
  },
  {
   "cell_type": "code",
   "execution_count": 7,
   "metadata": {
    "collapsed": true
   },
   "outputs": [],
   "source": [
    "con.close()"
   ]
  },
  {
   "cell_type": "code",
   "execution_count": 8,
   "metadata": {
    "collapsed": true
   },
   "outputs": [],
   "source": [
    "import sqlite3\n",
    "con = sqlite3.connect('db1.db')\n",
    "cur=con.cursor()\n",
    "cur.execute(\"insert into persons values(1,'name1')\")\n",
    "con.commit()"
   ]
  },
  {
   "cell_type": "code",
   "execution_count": 9,
   "metadata": {
    "collapsed": true
   },
   "outputs": [],
   "source": [
    "for i in range(2,100):\n",
    "    cur.execute(\"insert into persons values({0},'name{0}')\".format(i))\n",
    "con.commit()"
   ]
  },
  {
   "cell_type": "code",
   "execution_count": 10,
   "metadata": {
    "collapsed": false
   },
   "outputs": [
    {
     "data": {
      "text/plain": [
       "<sqlite3.Cursor at 0x7ffb404590a0>"
      ]
     },
     "execution_count": 10,
     "metadata": {},
     "output_type": "execute_result"
    }
   ],
   "source": [
    "cur.execute(\"select * from persons\")"
   ]
  },
  {
   "cell_type": "code",
   "execution_count": 11,
   "metadata": {
    "collapsed": false
   },
   "outputs": [
    {
     "data": {
      "text/plain": [
       "[(1, u'name1'),\n",
       " (2, u'name2'),\n",
       " (3, u'name3'),\n",
       " (4, u'name4'),\n",
       " (5, u'name5'),\n",
       " (6, u'name6'),\n",
       " (7, u'name7'),\n",
       " (8, u'name8'),\n",
       " (9, u'name9'),\n",
       " (10, u'name10'),\n",
       " (11, u'name11'),\n",
       " (12, u'name12'),\n",
       " (13, u'name13'),\n",
       " (14, u'name14'),\n",
       " (15, u'name15'),\n",
       " (16, u'name16'),\n",
       " (17, u'name17'),\n",
       " (18, u'name18'),\n",
       " (19, u'name19'),\n",
       " (20, u'name20'),\n",
       " (21, u'name21'),\n",
       " (22, u'name22'),\n",
       " (23, u'name23'),\n",
       " (24, u'name24'),\n",
       " (25, u'name25'),\n",
       " (26, u'name26'),\n",
       " (27, u'name27'),\n",
       " (28, u'name28'),\n",
       " (29, u'name29'),\n",
       " (30, u'name30'),\n",
       " (31, u'name31'),\n",
       " (32, u'name32'),\n",
       " (33, u'name33'),\n",
       " (34, u'name34'),\n",
       " (35, u'name35'),\n",
       " (36, u'name36'),\n",
       " (37, u'name37'),\n",
       " (38, u'name38'),\n",
       " (39, u'name39'),\n",
       " (40, u'name40'),\n",
       " (41, u'name41'),\n",
       " (42, u'name42'),\n",
       " (43, u'name43'),\n",
       " (44, u'name44'),\n",
       " (45, u'name45'),\n",
       " (46, u'name46'),\n",
       " (47, u'name47'),\n",
       " (48, u'name48'),\n",
       " (49, u'name49'),\n",
       " (50, u'name50'),\n",
       " (51, u'name51'),\n",
       " (52, u'name52'),\n",
       " (53, u'name53'),\n",
       " (54, u'name54'),\n",
       " (55, u'name55'),\n",
       " (56, u'name56'),\n",
       " (57, u'name57'),\n",
       " (58, u'name58'),\n",
       " (59, u'name59'),\n",
       " (60, u'name60'),\n",
       " (61, u'name61'),\n",
       " (62, u'name62'),\n",
       " (63, u'name63'),\n",
       " (64, u'name64'),\n",
       " (65, u'name65'),\n",
       " (66, u'name66'),\n",
       " (67, u'name67'),\n",
       " (68, u'name68'),\n",
       " (69, u'name69'),\n",
       " (70, u'name70'),\n",
       " (71, u'name71'),\n",
       " (72, u'name72'),\n",
       " (73, u'name73'),\n",
       " (74, u'name74'),\n",
       " (75, u'name75'),\n",
       " (76, u'name76'),\n",
       " (77, u'name77'),\n",
       " (78, u'name78'),\n",
       " (79, u'name79'),\n",
       " (80, u'name80'),\n",
       " (81, u'name81'),\n",
       " (82, u'name82'),\n",
       " (83, u'name83'),\n",
       " (84, u'name84'),\n",
       " (85, u'name85'),\n",
       " (86, u'name86'),\n",
       " (87, u'name87'),\n",
       " (88, u'name88'),\n",
       " (89, u'name89'),\n",
       " (90, u'name90'),\n",
       " (91, u'name91'),\n",
       " (92, u'name92'),\n",
       " (93, u'name93'),\n",
       " (94, u'name94'),\n",
       " (95, u'name95'),\n",
       " (96, u'name96'),\n",
       " (97, u'name97'),\n",
       " (98, u'name98'),\n",
       " (99, u'name99')]"
      ]
     },
     "execution_count": 11,
     "metadata": {},
     "output_type": "execute_result"
    }
   ],
   "source": [
    "cur.fetchall()"
   ]
  },
  {
   "cell_type": "code",
   "execution_count": 12,
   "metadata": {
    "collapsed": false
   },
   "outputs": [
    {
     "data": {
      "text/plain": [
       "[]"
      ]
     },
     "execution_count": 12,
     "metadata": {},
     "output_type": "execute_result"
    }
   ],
   "source": [
    "cur.fetchall()"
   ]
  },
  {
   "cell_type": "code",
   "execution_count": null,
   "metadata": {
    "collapsed": true
   },
   "outputs": [],
   "source": []
  }
 ],
 "metadata": {
  "kernelspec": {
   "display_name": "Python 2",
   "language": "python",
   "name": "python2"
  },
  "language_info": {
   "codemirror_mode": {
    "name": "ipython",
    "version": 2
   },
   "file_extension": ".py",
   "mimetype": "text/x-python",
   "name": "python",
   "nbconvert_exporter": "python",
   "pygments_lexer": "ipython2",
   "version": "2.7.13"
  }
 },
 "nbformat": 4,
 "nbformat_minor": 2
}

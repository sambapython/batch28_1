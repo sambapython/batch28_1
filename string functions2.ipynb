{
 "cells": [
  {
   "cell_type": "code",
   "execution_count": 1,
   "metadata": {
    "collapsed": false
   },
   "outputs": [
    {
     "name": "stdout",
     "output_type": "stream",
     "text": [
      "Enter a string: PYthon\n",
      "P\n",
      "Y\n",
      "t\n",
      "h\n",
      "o\n",
      "n\n"
     ]
    }
   ],
   "source": [
    "s=raw_input(\"Enter a string: \")\n",
    "for i in s:\n",
    "    print i"
   ]
  },
  {
   "cell_type": "code",
   "execution_count": 2,
   "metadata": {
    "collapsed": false
   },
   "outputs": [
    {
     "name": "stdout",
     "output_type": "stream",
     "text": [
      "Enter a string: PYThon\n",
      "contains upper case letters\n",
      "contains upper case letters\n",
      "contains upper case letters\n",
      "Not contains upper case letters\n",
      "Not contains upper case letters\n",
      "Not contains upper case letters\n"
     ]
    }
   ],
   "source": [
    "s=raw_input(\"Enter a string: \")\n",
    "for i in s:\n",
    "    if i.isupper():\n",
    "        print \"contains upper case letters\"\n",
    "    else:\n",
    "        print \"Not contains upper case letters\""
   ]
  },
  {
   "cell_type": "code",
   "execution_count": 3,
   "metadata": {
    "collapsed": false
   },
   "outputs": [
    {
     "name": "stdout",
     "output_type": "stream",
     "text": [
      "Enter a string: AbcDEF\n",
      "contains upper case letters\n"
     ]
    }
   ],
   "source": [
    "s=raw_input(\"Enter a string: \")\n",
    "c=0\n",
    "for i in s:\n",
    "    if i.isupper():\n",
    "        c=c+1\n",
    "if c!=0:\n",
    "    print \"contains upper case letters\"\n",
    "else:\n",
    "    print \"not contains upper case letters\""
   ]
  },
  {
   "cell_type": "code",
   "execution_count": 5,
   "metadata": {
    "collapsed": false
   },
   "outputs": [
    {
     "name": "stdout",
     "output_type": "stream",
     "text": [
      "Enter a string: abc\n",
      "c= 0\n",
      "c= 0\n",
      "c= 0\n",
      "not contains upper case letters\n"
     ]
    }
   ],
   "source": [
    "s=raw_input(\"Enter a string: \")\n",
    "c=0\n",
    "for i in s:\n",
    "    print \"c=\",c\n",
    "    if i.isupper():\n",
    "        c=c+1\n",
    "if c!=0:\n",
    "    print \"contains upper case letters\"\n",
    "else:\n",
    "    print \"not contains upper case letters\""
   ]
  },
  {
   "cell_type": "code",
   "execution_count": 6,
   "metadata": {
    "collapsed": false
   },
   "outputs": [
    {
     "name": "stdout",
     "output_type": "stream",
     "text": [
      "Enter a string: abCDE\n",
      "c= 0\n",
      "c= 0\n",
      "c= 0\n",
      "c= 1\n",
      "c= 2\n",
      "contains upper case letters\n"
     ]
    }
   ],
   "source": [
    "s=raw_input(\"Enter a string: \")\n",
    "c=0\n",
    "for i in s:\n",
    "    print \"c=\",c\n",
    "    if i.isupper():\n",
    "        c=c+1\n",
    "if c!=0:\n",
    "    print \"contains upper case letters\"\n",
    "else:\n",
    "    print \"not contains upper case letters\""
   ]
  },
  {
   "cell_type": "code",
   "execution_count": 9,
   "metadata": {
    "collapsed": false
   },
   "outputs": [
    {
     "name": "stdout",
     "output_type": "stream",
     "text": [
      "Enter a string: PYthon PROGRAM\n",
      "char=P,c=1\n",
      "char=Y,c=2\n",
      "char=t,c=2\n",
      "char=h,c=2\n",
      "char=o,c=2\n",
      "char=n,c=2\n",
      "char= ,c=2\n",
      "char=P,c=3\n",
      "char=R,c=4\n",
      "char=O,c=5\n",
      "char=G,c=6\n",
      "char=R,c=7\n",
      "char=A,c=8\n",
      "char=M,c=9\n",
      "contains upper case letters\n"
     ]
    }
   ],
   "source": [
    "s=raw_input(\"Enter a string: \")\n",
    "c=0\n",
    "for i in s:\n",
    "    if i.isupper():\n",
    "        c=c+1\n",
    "    print \"char=%s,c=%s\"%(i,c)\n",
    "if c!=0:\n",
    "    print \"contains upper case letters\"\n",
    "else:\n",
    "    print \"not contains upper case letters\""
   ]
  },
  {
   "cell_type": "code",
   "execution_count": 10,
   "metadata": {
    "collapsed": false
   },
   "outputs": [
    {
     "name": "stdout",
     "output_type": "stream",
     "text": [
      "Enter a string: PYThon PROGRAM\n",
      "contains upper case letters\n"
     ]
    }
   ],
   "source": [
    "s=raw_input(\"Enter a string: \")\n",
    "c=0\n",
    "for i in s:\n",
    "    if i.isupper():\n",
    "        c=c+1\n",
    "        break\n",
    "    print \"char=%s,c=%s\"%(i,c)\n",
    "if c!=0:\n",
    "    print \"contains upper case letters\"\n",
    "else:\n",
    "    print \"not contains upper case letters\""
   ]
  },
  {
   "cell_type": "code",
   "execution_count": 11,
   "metadata": {
    "collapsed": false
   },
   "outputs": [
    {
     "name": "stdout",
     "output_type": "stream",
     "text": [
      "Enter a string: python ProGram\n",
      "char=p,c=0\n",
      "char=y,c=0\n",
      "char=t,c=0\n",
      "char=h,c=0\n",
      "char=o,c=0\n",
      "char=n,c=0\n",
      "char= ,c=0\n",
      "contains upper case letters\n"
     ]
    }
   ],
   "source": [
    "s=raw_input(\"Enter a string: \")\n",
    "c=0\n",
    "for i in s:\n",
    "    if i.isupper():\n",
    "        c=c+1\n",
    "        break\n",
    "    print \"char=%s,c=%s\"%(i,c)\n",
    "if c!=0:\n",
    "    print \"contains upper case letters\"\n",
    "else:\n",
    "    print \"not contains upper case letters\""
   ]
  },
  {
   "cell_type": "code",
   "execution_count": 12,
   "metadata": {
    "collapsed": false
   },
   "outputs": [
    {
     "name": "stdout",
     "output_type": "stream",
     "text": [
      "Enter a string: Python\n",
      "contains upper case letters\n"
     ]
    }
   ],
   "source": [
    "s=raw_input(\"Enter a string: \")\n",
    "for i in s:\n",
    "    if i.isupper():\n",
    "        print \"contains upper case letters\"\n",
    "        break"
   ]
  },
  {
   "cell_type": "code",
   "execution_count": 14,
   "metadata": {
    "collapsed": false
   },
   "outputs": [
    {
     "name": "stdout",
     "output_type": "stream",
     "text": [
      "Enter a string: python Program\n",
      "not contains upper case letters\n",
      "not contains upper case letters\n",
      "not contains upper case letters\n",
      "not contains upper case letters\n",
      "not contains upper case letters\n",
      "not contains upper case letters\n",
      "not contains upper case letters\n",
      "contains upper case letters\n"
     ]
    }
   ],
   "source": [
    "s=raw_input(\"Enter a string: \")\n",
    "for i in s:\n",
    "    if i.isupper():\n",
    "        print \"contains upper case letters\"\n",
    "        break\n",
    "    else:\n",
    "        print \"not contains upper case letters\""
   ]
  },
  {
   "cell_type": "code",
   "execution_count": 15,
   "metadata": {
    "collapsed": false
   },
   "outputs": [
    {
     "name": "stdout",
     "output_type": "stream",
     "text": [
      "Enter a string: python Progr\n",
      "not contains upper case letters\n"
     ]
    }
   ],
   "source": [
    "s=raw_input(\"Enter a string: \")\n",
    "for i in s:\n",
    "    if i.isupper():\n",
    "        print \"contains upper case letters\"\n",
    "        \n",
    "    else:\n",
    "        print \"not contains upper case letters\"\n",
    "        break"
   ]
  },
  {
   "cell_type": "code",
   "execution_count": 16,
   "metadata": {
    "collapsed": false
   },
   "outputs": [
    {
     "name": "stdout",
     "output_type": "stream",
     "text": [
      "a\n",
      "b\n",
      " \n"
     ]
    }
   ],
   "source": [
    "for i in \"ab cd\":\n",
    "    print i\n",
    "    if i==\" \":\n",
    "        break    "
   ]
  },
  {
   "cell_type": "code",
   "execution_count": 17,
   "metadata": {
    "collapsed": false
   },
   "outputs": [
    {
     "name": "stdout",
     "output_type": "stream",
     "text": [
      "a\n",
      "b\n",
      " \n"
     ]
    }
   ],
   "source": [
    "for i in \"ab cd\":\n",
    "    print i\n",
    "    if i==\" \":\n",
    "        break\n",
    "else:\n",
    "    print \"else block\""
   ]
  },
  {
   "cell_type": "code",
   "execution_count": 18,
   "metadata": {
    "collapsed": false
   },
   "outputs": [
    {
     "name": "stdout",
     "output_type": "stream",
     "text": [
      "a\n",
      "b\n",
      "c\n",
      "d\n",
      "else block\n"
     ]
    }
   ],
   "source": [
    "for i in \"abcd\":\n",
    "    print i\n",
    "    if i==\" \":\n",
    "        break\n",
    "else:\n",
    "    print \"else block\""
   ]
  },
  {
   "cell_type": "code",
   "execution_count": 19,
   "metadata": {
    "collapsed": false
   },
   "outputs": [
    {
     "name": "stdout",
     "output_type": "stream",
     "text": [
      "a\n",
      "b\n",
      "c\n",
      "d\n",
      " \n"
     ]
    }
   ],
   "source": [
    "for i in \"abcd \":\n",
    "    print i\n",
    "    if i==\" \":\n",
    "        break\n",
    "else:\n",
    "    print \"else block\""
   ]
  },
  {
   "cell_type": "code",
   "execution_count": 20,
   "metadata": {
    "collapsed": false
   },
   "outputs": [
    {
     "name": "stdout",
     "output_type": "stream",
     "text": [
      "Enter a string: python\n",
      "not contains upper case letters\n"
     ]
    }
   ],
   "source": [
    "s=raw_input(\"Enter a string: \")\n",
    "for i in s:\n",
    "    if i.isupper():\n",
    "        print \"contains upper case letters\"\n",
    "        break    \n",
    "else:\n",
    "    print \"not contains upper case letters\"\n",
    "    "
   ]
  },
  {
   "cell_type": "code",
   "execution_count": 21,
   "metadata": {
    "collapsed": false
   },
   "outputs": [
    {
     "name": "stdout",
     "output_type": "stream",
     "text": [
      "Enter a string: pythonP\n",
      "contains upper case letters\n"
     ]
    }
   ],
   "source": [
    "s=raw_input(\"Enter a string: \")\n",
    "for i in s:\n",
    "    if i.isupper():\n",
    "        print \"contains upper case letters\"\n",
    "        break    \n",
    "else:\n",
    "    print \"not contains upper case letters\"\n",
    "    "
   ]
  },
  {
   "cell_type": "code",
   "execution_count": 22,
   "metadata": {
    "collapsed": false
   },
   "outputs": [
    {
     "name": "stdout",
     "output_type": "stream",
     "text": [
      "a ----> d\n",
      "a ----> e\n",
      "b ----> d\n",
      "b ----> e\n",
      "c ----> d\n",
      "c ----> e\n"
     ]
    }
   ],
   "source": [
    "for i in \"abc\":\n",
    "    for j in \"def\":\n",
    "        print i,\"---->\",j\n",
    "        if j==\"e\":\n",
    "            break"
   ]
  },
  {
   "cell_type": "code",
   "execution_count": 23,
   "metadata": {
    "collapsed": false
   },
   "outputs": [
    {
     "name": "stdout",
     "output_type": "stream",
     "text": [
      "a ----> d\n",
      "a ----> e\n",
      "b ----> d\n",
      "b ----> e\n",
      "c ----> d\n",
      "c ----> e\n"
     ]
    }
   ],
   "source": [
    "for i in \"abc\":\n",
    "    for j in \"def\":\n",
    "        print i,\"---->\",j\n",
    "        if j==\"e\":\n",
    "            if j==\"e\":\n",
    "                break"
   ]
  },
  {
   "cell_type": "code",
   "execution_count": 24,
   "metadata": {
    "collapsed": false
   },
   "outputs": [
    {
     "name": "stdout",
     "output_type": "stream",
     "text": [
      "Python program\n"
     ]
    }
   ],
   "source": [
    "s=\"python program\"\n",
    "print s.capitalize()"
   ]
  },
  {
   "cell_type": "code",
   "execution_count": 25,
   "metadata": {
    "collapsed": false
   },
   "outputs": [
    {
     "name": "stdout",
     "output_type": "stream",
     "text": [
      "123python program\n"
     ]
    }
   ],
   "source": [
    "s=\"123python program\"\n",
    "print s.capitalize()"
   ]
  },
  {
   "cell_type": "code",
   "execution_count": 26,
   "metadata": {
    "collapsed": false
   },
   "outputs": [
    {
     "name": "stdout",
     "output_type": "stream",
     "text": [
      "123python program\n"
     ]
    }
   ],
   "source": [
    "s=\"123pytHon PROGRAM\"\n",
    "print s.capitalize()"
   ]
  },
  {
   "cell_type": "code",
   "execution_count": 27,
   "metadata": {
    "collapsed": false
   },
   "outputs": [
    {
     "data": {
      "text/plain": [
       "'python'"
      ]
     },
     "execution_count": 27,
     "metadata": {},
     "output_type": "execute_result"
    }
   ],
   "source": [
    "\"PYTHON\".lower()"
   ]
  },
  {
   "cell_type": "code",
   "execution_count": 28,
   "metadata": {
    "collapsed": false
   },
   "outputs": [
    {
     "data": {
      "text/plain": [
       "'python'"
      ]
     },
     "execution_count": 28,
     "metadata": {},
     "output_type": "execute_result"
    }
   ],
   "source": [
    "\"python\".lower()"
   ]
  },
  {
   "cell_type": "code",
   "execution_count": 29,
   "metadata": {
    "collapsed": false
   },
   "outputs": [
    {
     "data": {
      "text/plain": [
       "'123'"
      ]
     },
     "execution_count": 29,
     "metadata": {},
     "output_type": "execute_result"
    }
   ],
   "source": [
    "\"123\".lower()"
   ]
  },
  {
   "cell_type": "code",
   "execution_count": 30,
   "metadata": {
    "collapsed": false
   },
   "outputs": [
    {
     "data": {
      "text/plain": [
       "'13@#$qwersds'"
      ]
     },
     "execution_count": 30,
     "metadata": {},
     "output_type": "execute_result"
    }
   ],
   "source": [
    "\"13@#$QWERsds\".lower()"
   ]
  },
  {
   "cell_type": "code",
   "execution_count": 31,
   "metadata": {
    "collapsed": false
   },
   "outputs": [
    {
     "data": {
      "text/plain": [
       "'123pytHon PROGRAM'"
      ]
     },
     "execution_count": 31,
     "metadata": {},
     "output_type": "execute_result"
    }
   ],
   "source": [
    "s"
   ]
  },
  {
   "cell_type": "code",
   "execution_count": 32,
   "metadata": {
    "collapsed": true
   },
   "outputs": [],
   "source": [
    "s=\"python program\""
   ]
  },
  {
   "cell_type": "code",
   "execution_count": 33,
   "metadata": {
    "collapsed": false
   },
   "outputs": [
    {
     "data": {
      "text/plain": [
       "0"
      ]
     },
     "execution_count": 33,
     "metadata": {},
     "output_type": "execute_result"
    }
   ],
   "source": [
    "s.find(\"python\")"
   ]
  },
  {
   "cell_type": "code",
   "execution_count": 34,
   "metadata": {
    "collapsed": false
   },
   "outputs": [
    {
     "data": {
      "text/plain": [
       "-1"
      ]
     },
     "execution_count": 34,
     "metadata": {},
     "output_type": "execute_result"
    }
   ],
   "source": [
    "s.find(\"PYthon\")"
   ]
  },
  {
   "cell_type": "code",
   "execution_count": 35,
   "metadata": {
    "collapsed": false
   },
   "outputs": [
    {
     "name": "stdout",
     "output_type": "stream",
     "text": [
      "Enter sub string to search: python\n",
      "sub string: python found\n"
     ]
    }
   ],
   "source": [
    "act=\"python program\"\n",
    "sub = raw_input(\"Enter sub string to search: \")\n",
    "if act.find(sub)==-1:\n",
    "    print \"sub string: %s not found\"%sub\n",
    "else:\n",
    "    print \"sub string: %s found\"%sub"
   ]
  },
  {
   "cell_type": "code",
   "execution_count": 36,
   "metadata": {
    "collapsed": false
   },
   "outputs": [
    {
     "name": "stdout",
     "output_type": "stream",
     "text": [
      "Enter sub string to search: gram\n",
      "sub string: gram found\n"
     ]
    }
   ],
   "source": [
    "act=\"python program\"\n",
    "sub = raw_input(\"Enter sub string to search: \")\n",
    "if act.find(sub)==-1:\n",
    "    print \"sub string: %s not found\"%sub\n",
    "else:\n",
    "    print \"sub string: %s found\"%sub"
   ]
  },
  {
   "cell_type": "code",
   "execution_count": 39,
   "metadata": {
    "collapsed": false
   },
   "outputs": [
    {
     "name": "stdout",
     "output_type": "stream",
     "text": [
      "Enter sub string to search: GRAM\n",
      "act_l python program\n",
      "sub_l gram\n",
      "sub string: GRAM found\n"
     ]
    }
   ],
   "source": [
    "act=\"python program\"\n",
    "sub = raw_input(\"Enter sub string to search: \")\n",
    "act_l = act.lower()\n",
    "sub_l = sub.lower()\n",
    "print \"act_l\",act_l\n",
    "print \"sub_l\",sub_l\n",
    "if act_l.find(sub_l)==-1:\n",
    "    print \"sub string: %s not found\"%sub\n",
    "else:\n",
    "    print \"sub string: %s found\"%sub"
   ]
  },
  {
   "cell_type": "code",
   "execution_count": 38,
   "metadata": {
    "collapsed": true
   },
   "outputs": [],
   "source": [
    "s.find?"
   ]
  },
  {
   "cell_type": "code",
   "execution_count": 40,
   "metadata": {
    "collapsed": false
   },
   "outputs": [
    {
     "name": "stdout",
     "output_type": "stream",
     "text": [
      "Enter sub string to search: PYthON\n",
      "act_l python program\n",
      "sub_l python\n",
      "sub string: PYthON found\n"
     ]
    }
   ],
   "source": [
    "act=\"python program\"\n",
    "sub = raw_input(\"Enter sub string to search: \")\n",
    "act_l = act.lower()\n",
    "sub_l = sub.lower()\n",
    "print \"act_l\",act_l\n",
    "print \"sub_l\",sub_l\n",
    "if act_l.find(sub_l)==-1:\n",
    "    print \"sub string: %s not found\"%sub\n",
    "else:\n",
    "    print \"sub string: %s found\"%sub"
   ]
  },
  {
   "cell_type": "code",
   "execution_count": 41,
   "metadata": {
    "collapsed": false
   },
   "outputs": [
    {
     "data": {
      "text/plain": [
       "'python program'"
      ]
     },
     "execution_count": 41,
     "metadata": {},
     "output_type": "execute_result"
    }
   ],
   "source": [
    "s"
   ]
  },
  {
   "cell_type": "code",
   "execution_count": 42,
   "metadata": {
    "collapsed": false
   },
   "outputs": [
    {
     "data": {
      "text/plain": [
       "2"
      ]
     },
     "execution_count": 42,
     "metadata": {},
     "output_type": "execute_result"
    }
   ],
   "source": [
    "s.count('p')"
   ]
  },
  {
   "cell_type": "code",
   "execution_count": 43,
   "metadata": {
    "collapsed": false
   },
   "outputs": [
    {
     "data": {
      "text/plain": [
       "1"
      ]
     },
     "execution_count": 43,
     "metadata": {},
     "output_type": "execute_result"
    }
   ],
   "source": [
    "s.count('g')"
   ]
  },
  {
   "cell_type": "code",
   "execution_count": 44,
   "metadata": {
    "collapsed": false
   },
   "outputs": [
    {
     "data": {
      "text/plain": [
       "0"
      ]
     },
     "execution_count": 44,
     "metadata": {},
     "output_type": "execute_result"
    }
   ],
   "source": [
    "s.count('z')"
   ]
  },
  {
   "cell_type": "code",
   "execution_count": 45,
   "metadata": {
    "collapsed": false
   },
   "outputs": [
    {
     "data": {
      "text/plain": [
       "1"
      ]
     },
     "execution_count": 45,
     "metadata": {},
     "output_type": "execute_result"
    }
   ],
   "source": [
    "s.count('python')"
   ]
  },
  {
   "cell_type": "code",
   "execution_count": 46,
   "metadata": {
    "collapsed": false
   },
   "outputs": [
    {
     "data": {
      "text/plain": [
       "1"
      ]
     },
     "execution_count": 46,
     "metadata": {},
     "output_type": "execute_result"
    }
   ],
   "source": [
    "s.count(\"program\")"
   ]
  },
  {
   "cell_type": "code",
   "execution_count": 47,
   "metadata": {
    "collapsed": false
   },
   "outputs": [
    {
     "data": {
      "text/plain": [
       "0"
      ]
     },
     "execution_count": 47,
     "metadata": {},
     "output_type": "execute_result"
    }
   ],
   "source": [
    "s.count(\"GRAM\")"
   ]
  },
  {
   "cell_type": "code",
   "execution_count": 48,
   "metadata": {
    "collapsed": false
   },
   "outputs": [
    {
     "data": {
      "text/plain": [
       "14"
      ]
     },
     "execution_count": 48,
     "metadata": {},
     "output_type": "execute_result"
    }
   ],
   "source": [
    "len(s)"
   ]
  },
  {
   "cell_type": "code",
   "execution_count": 49,
   "metadata": {
    "collapsed": false
   },
   "outputs": [
    {
     "data": {
      "text/plain": [
       "1"
      ]
     },
     "execution_count": 49,
     "metadata": {},
     "output_type": "execute_result"
    }
   ],
   "source": [
    "s.count(' ')"
   ]
  },
  {
   "cell_type": "code",
   "execution_count": 50,
   "metadata": {
    "collapsed": false
   },
   "outputs": [
    {
     "data": {
      "text/plain": [
       "'python program'"
      ]
     },
     "execution_count": 50,
     "metadata": {},
     "output_type": "execute_result"
    }
   ],
   "source": [
    "s"
   ]
  },
  {
   "cell_type": "code",
   "execution_count": 51,
   "metadata": {
    "collapsed": false
   },
   "outputs": [
    {
     "data": {
      "text/plain": [
       "15"
      ]
     },
     "execution_count": 51,
     "metadata": {},
     "output_type": "execute_result"
    }
   ],
   "source": [
    "s.count(\"\")"
   ]
  },
  {
   "cell_type": "code",
   "execution_count": 52,
   "metadata": {
    "collapsed": false
   },
   "outputs": [
    {
     "name": "stdout",
     "output_type": "stream",
     "text": [
      "Enter sub string to count: p\n",
      "2\n"
     ]
    }
   ],
   "source": [
    "act  = \"python program\"\n",
    "sub = raw_input(\"Enter sub string to count: \")\n",
    "print act.count(sub)"
   ]
  },
  {
   "cell_type": "code",
   "execution_count": 53,
   "metadata": {
    "collapsed": false
   },
   "outputs": [
    {
     "name": "stdout",
     "output_type": "stream",
     "text": [
      "Enter sub string to count: pyt\n",
      "1\n"
     ]
    }
   ],
   "source": [
    "act  = \"python program\"\n",
    "sub = raw_input(\"Enter sub string to count: \")\n",
    "print act.count(sub)"
   ]
  },
  {
   "cell_type": "code",
   "execution_count": 54,
   "metadata": {
    "collapsed": false
   },
   "outputs": [
    {
     "name": "stdout",
     "output_type": "stream",
     "text": [
      "Enter sub string to count: PYT\n",
      "0\n"
     ]
    }
   ],
   "source": [
    "act  = \"python program\"\n",
    "sub = raw_input(\"Enter sub string to count: \")\n",
    "print act.count(sub)"
   ]
  },
  {
   "cell_type": "code",
   "execution_count": 55,
   "metadata": {
    "collapsed": false
   },
   "outputs": [
    {
     "name": "stdout",
     "output_type": "stream",
     "text": [
      "Enter sub string to count: \n",
      "15\n"
     ]
    }
   ],
   "source": [
    "act  = \"python program\"\n",
    "sub = raw_input(\"Enter sub string to count: \")\n",
    "print act.count(sub)"
   ]
  },
  {
   "cell_type": "code",
   "execution_count": 56,
   "metadata": {
    "collapsed": false
   },
   "outputs": [
    {
     "data": {
      "text/plain": [
       "'python program'"
      ]
     },
     "execution_count": 56,
     "metadata": {},
     "output_type": "execute_result"
    }
   ],
   "source": [
    "s"
   ]
  },
  {
   "cell_type": "code",
   "execution_count": 57,
   "metadata": {
    "collapsed": false
   },
   "outputs": [
    {
     "data": {
      "text/plain": [
       "'python program'"
      ]
     },
     "execution_count": 57,
     "metadata": {},
     "output_type": "execute_result"
    }
   ],
   "source": [
    "s"
   ]
  },
  {
   "cell_type": "code",
   "execution_count": 58,
   "metadata": {
    "collapsed": false
   },
   "outputs": [
    {
     "data": {
      "text/plain": [
       "'zython zrogram'"
      ]
     },
     "execution_count": 58,
     "metadata": {},
     "output_type": "execute_result"
    }
   ],
   "source": [
    "s.replace('p','z')"
   ]
  },
  {
   "cell_type": "code",
   "execution_count": 59,
   "metadata": {
    "collapsed": true
   },
   "outputs": [],
   "source": [
    "s.replace?"
   ]
  },
  {
   "cell_type": "code",
   "execution_count": 60,
   "metadata": {
    "collapsed": false
   },
   "outputs": [
    {
     "data": {
      "text/plain": [
       "'zython program'"
      ]
     },
     "execution_count": 60,
     "metadata": {},
     "output_type": "execute_result"
    }
   ],
   "source": [
    "s.replace('p','z',1)"
   ]
  },
  {
   "cell_type": "code",
   "execution_count": 61,
   "metadata": {
    "collapsed": false
   },
   "outputs": [
    {
     "data": {
      "text/plain": [
       "'zpzyztzhzoznz zpzrzozgzrzazmz'"
      ]
     },
     "execution_count": 61,
     "metadata": {},
     "output_type": "execute_result"
    }
   ],
   "source": [
    "s.replace('','z')"
   ]
  },
  {
   "cell_type": "code",
   "execution_count": 63,
   "metadata": {
    "collapsed": false
   },
   "outputs": [
    {
     "name": "stdout",
     "output_type": "stream",
     "text": [
      "Enter sub string to count: \n",
      "Enter substring\n"
     ]
    }
   ],
   "source": [
    "act  = \"python program\"\n",
    "sub = raw_input(\"Enter sub string to count: \")\n",
    "if sub!=\"\":\n",
    "    print act.count(sub)\n",
    "else:\n",
    "    print \"Enter substring\""
   ]
  },
  {
   "cell_type": "code",
   "execution_count": 64,
   "metadata": {
    "collapsed": false
   },
   "outputs": [
    {
     "name": "stdout",
     "output_type": "stream",
     "text": [
      "Enter sub string to count: GRAM\n",
      "1\n"
     ]
    }
   ],
   "source": [
    "act  = \"python program\"\n",
    "sub = raw_input(\"Enter sub string to count: \")\n",
    "act_u = act.upper()\n",
    "sub_u = sub.upper()\n",
    "if sub!=\"\":\n",
    "    print act_u.count(sub_u)\n",
    "else:\n",
    "    print \"Enter substring\""
   ]
  },
  {
   "cell_type": "code",
   "execution_count": 65,
   "metadata": {
    "collapsed": false
   },
   "outputs": [
    {
     "name": "stdout",
     "output_type": "stream",
     "text": [
      "Enter sub string to count: \n",
      "Enter substring\n"
     ]
    }
   ],
   "source": [
    "act  = \"python program\"\n",
    "sub = raw_input(\"Enter sub string to count: \")\n",
    "act_u = act.upper()\n",
    "sub_u = sub.upper()\n",
    "if sub!=\"\":\n",
    "    print act_u.count(sub_u)\n",
    "else:\n",
    "    print \"Enter substring\""
   ]
  },
  {
   "cell_type": "code",
   "execution_count": 66,
   "metadata": {
    "collapsed": false
   },
   "outputs": [
    {
     "data": {
      "text/plain": [
       "'python program'"
      ]
     },
     "execution_count": 66,
     "metadata": {},
     "output_type": "execute_result"
    }
   ],
   "source": [
    "s"
   ]
  },
  {
   "cell_type": "code",
   "execution_count": 67,
   "metadata": {
    "collapsed": false
   },
   "outputs": [
    {
     "data": {
      "text/plain": [
       "False"
      ]
     },
     "execution_count": 67,
     "metadata": {},
     "output_type": "execute_result"
    }
   ],
   "source": [
    "s==\"python\""
   ]
  },
  {
   "cell_type": "code",
   "execution_count": 68,
   "metadata": {
    "collapsed": false
   },
   "outputs": [
    {
     "data": {
      "text/plain": [
       "False"
      ]
     },
     "execution_count": 68,
     "metadata": {},
     "output_type": "execute_result"
    }
   ],
   "source": [
    "bool(s==\"python\")"
   ]
  },
  {
   "cell_type": "code",
   "execution_count": 69,
   "metadata": {
    "collapsed": false
   },
   "outputs": [
    {
     "data": {
      "text/plain": [
       "True"
      ]
     },
     "execution_count": 69,
     "metadata": {},
     "output_type": "execute_result"
    }
   ],
   "source": [
    "bool(\"python\")"
   ]
  },
  {
   "cell_type": "code",
   "execution_count": 70,
   "metadata": {
    "collapsed": false
   },
   "outputs": [
    {
     "data": {
      "text/plain": [
       "False"
      ]
     },
     "execution_count": 70,
     "metadata": {},
     "output_type": "execute_result"
    }
   ],
   "source": [
    "bool(\"\")"
   ]
  },
  {
   "cell_type": "code",
   "execution_count": 71,
   "metadata": {
    "collapsed": true
   },
   "outputs": [],
   "source": [
    "s=\"python\""
   ]
  },
  {
   "cell_type": "code",
   "execution_count": 72,
   "metadata": {
    "collapsed": false
   },
   "outputs": [
    {
     "data": {
      "text/plain": [
       "True"
      ]
     },
     "execution_count": 72,
     "metadata": {},
     "output_type": "execute_result"
    }
   ],
   "source": [
    "bool(s)"
   ]
  },
  {
   "cell_type": "code",
   "execution_count": 73,
   "metadata": {
    "collapsed": false
   },
   "outputs": [
    {
     "name": "stdout",
     "output_type": "stream",
     "text": [
      "False\n"
     ]
    }
   ],
   "source": [
    "s=\"\"\n",
    "print bool(s)"
   ]
  },
  {
   "cell_type": "code",
   "execution_count": 74,
   "metadata": {
    "collapsed": false
   },
   "outputs": [
    {
     "name": "stdout",
     "output_type": "stream",
     "text": [
      "Enter sub string to count: pyt\n",
      "True\n",
      "1\n"
     ]
    }
   ],
   "source": [
    "act  = \"python program\"\n",
    "sub = raw_input(\"Enter sub string to count: \")\n",
    "act_u = act.upper()\n",
    "sub_u = sub.upper()\n",
    "print bool(sub)\n",
    "if sub:\n",
    "    print act_u.count(sub_u)\n",
    "else:\n",
    "    print \"Enter substring\""
   ]
  },
  {
   "cell_type": "code",
   "execution_count": 75,
   "metadata": {
    "collapsed": false
   },
   "outputs": [
    {
     "name": "stdout",
     "output_type": "stream",
     "text": [
      "Enter sub string to count: \n",
      "False\n",
      "Enter substring\n"
     ]
    }
   ],
   "source": [
    "act  = \"python program\"\n",
    "sub = raw_input(\"Enter sub string to count: \")\n",
    "act_u = act.upper()\n",
    "sub_u = sub.upper()\n",
    "print bool(sub)\n",
    "if sub:\n",
    "    print act_u.count(sub_u)\n",
    "else:\n",
    "    print \"Enter substring\""
   ]
  },
  {
   "cell_type": "code",
   "execution_count": 76,
   "metadata": {
    "collapsed": false
   },
   "outputs": [
    {
     "name": "stdout",
     "output_type": "stream",
     "text": [
      "product cost:23\n"
     ]
    }
   ],
   "source": [
    "cost=23.456\n",
    "print \"product cost:\"+str(int(cost))"
   ]
  },
  {
   "cell_type": "code",
   "execution_count": 77,
   "metadata": {
    "collapsed": false
   },
   "outputs": [
    {
     "name": "stdout",
     "output_type": "stream",
     "text": [
      "product cost: 23\n"
     ]
    }
   ],
   "source": [
    "cost=23.456\n",
    "print \"product cost: %d\"%cost"
   ]
  },
  {
   "cell_type": "code",
   "execution_count": 78,
   "metadata": {
    "collapsed": false
   },
   "outputs": [
    {
     "ename": "TypeError",
     "evalue": "cannot concatenate 'str' and 'float' objects",
     "output_type": "error",
     "traceback": [
      "\u001b[0;31m---------------------------------------------------------------------------\u001b[0m",
      "\u001b[0;31mTypeError\u001b[0m                                 Traceback (most recent call last)",
      "\u001b[0;32m<ipython-input-78-a5a6dbb6f582>\u001b[0m in \u001b[0;36m<module>\u001b[0;34m()\u001b[0m\n\u001b[1;32m      1\u001b[0m \u001b[0mcost\u001b[0m\u001b[0;34m=\u001b[0m\u001b[0;36m23.456\u001b[0m\u001b[0;34m\u001b[0m\u001b[0m\n\u001b[0;32m----> 2\u001b[0;31m \u001b[0;32mprint\u001b[0m \u001b[0;34m\"product cost:\"\u001b[0m\u001b[0;34m+\u001b[0m\u001b[0mcost\u001b[0m\u001b[0;34m\u001b[0m\u001b[0m\n\u001b[0m",
      "\u001b[0;31mTypeError\u001b[0m: cannot concatenate 'str' and 'float' objects"
     ]
    }
   ],
   "source": [
    "cost=23.456\n",
    "print \"product cost:\"+cost"
   ]
  },
  {
   "cell_type": "code",
   "execution_count": 79,
   "metadata": {
    "collapsed": false
   },
   "outputs": [
    {
     "name": "stdout",
     "output_type": "stream",
     "text": [
      "product cost:23.456\n"
     ]
    }
   ],
   "source": [
    "cost=23.456\n",
    "print \"product cost:\"+str(cost)"
   ]
  },
  {
   "cell_type": "code",
   "execution_count": 80,
   "metadata": {
    "collapsed": false
   },
   "outputs": [
    {
     "name": "stdout",
     "output_type": "stream",
     "text": [
      "product cost: 23.456\n"
     ]
    }
   ],
   "source": [
    "cost=23.456\n",
    "print \"product cost: %s\"%cost"
   ]
  },
  {
   "cell_type": "code",
   "execution_count": 81,
   "metadata": {
    "collapsed": false
   },
   "outputs": [
    {
     "name": "stdout",
     "output_type": "stream",
     "text": [
      "product cost= 23.456\n"
     ]
    }
   ],
   "source": [
    "cost=23.456\n",
    "print \"product cost= %s\"%cost"
   ]
  },
  {
   "cell_type": "code",
   "execution_count": null,
   "metadata": {
    "collapsed": true
   },
   "outputs": [],
   "source": []
  }
 ],
 "metadata": {
  "kernelspec": {
   "display_name": "Python 2",
   "language": "python",
   "name": "python2"
  },
  "language_info": {
   "codemirror_mode": {
    "name": "ipython",
    "version": 2
   },
   "file_extension": ".py",
   "mimetype": "text/x-python",
   "name": "python",
   "nbconvert_exporter": "python",
   "pygments_lexer": "ipython2",
   "version": "2.7.13"
  }
 },
 "nbformat": 4,
 "nbformat_minor": 2
}

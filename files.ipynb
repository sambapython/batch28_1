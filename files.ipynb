{
 "cells": [
  {
   "cell_type": "code",
   "execution_count": 1,
   "metadata": {
    "collapsed": true
   },
   "outputs": [],
   "source": [
    "f=open(\"data.txt\",'w')"
   ]
  },
  {
   "cell_type": "code",
   "execution_count": 2,
   "metadata": {
    "collapsed": false
   },
   "outputs": [
    {
     "ename": "IOError",
     "evalue": "[Errno 2] No such file or directory: 'data1.txt'",
     "output_type": "error",
     "traceback": [
      "\u001b[0;31m---------------------------------------------------------------------------\u001b[0m",
      "\u001b[0;31mIOError\u001b[0m                                   Traceback (most recent call last)",
      "\u001b[0;32m<ipython-input-2-379e1c72e88d>\u001b[0m in \u001b[0;36m<module>\u001b[0;34m()\u001b[0m\n\u001b[0;32m----> 1\u001b[0;31m \u001b[0mf\u001b[0m\u001b[0;34m=\u001b[0m\u001b[0mopen\u001b[0m\u001b[0;34m(\u001b[0m\u001b[0;34m\"data1.txt\"\u001b[0m\u001b[0;34m,\u001b[0m\u001b[0;34m'r'\u001b[0m\u001b[0;34m)\u001b[0m\u001b[0;34m\u001b[0m\u001b[0m\n\u001b[0m",
      "\u001b[0;31mIOError\u001b[0m: [Errno 2] No such file or directory: 'data1.txt'"
     ]
    }
   ],
   "source": [
    "f=open(\"data1.txt\",'r')"
   ]
  },
  {
   "cell_type": "code",
   "execution_count": 3,
   "metadata": {
    "collapsed": true
   },
   "outputs": [],
   "source": [
    "f=open(\"data2.txt\",'a')"
   ]
  },
  {
   "cell_type": "code",
   "execution_count": 5,
   "metadata": {
    "collapsed": true
   },
   "outputs": [],
   "source": [
    "f=open(\"data.txt\",'w')\n",
    "data = \"this is the firstt stament including in the file\"\n",
    "f.write(data)"
   ]
  },
  {
   "cell_type": "code",
   "execution_count": 6,
   "metadata": {
    "collapsed": true
   },
   "outputs": [],
   "source": [
    "f.close()"
   ]
  },
  {
   "cell_type": "code",
   "execution_count": 7,
   "metadata": {
    "collapsed": true
   },
   "outputs": [],
   "source": [
    "f=open(\"data.txt\",'w')"
   ]
  },
  {
   "cell_type": "code",
   "execution_count": 8,
   "metadata": {
    "collapsed": true
   },
   "outputs": [],
   "source": [
    "f=open(\"data.txt\",'w')\n",
    "f.write(\"sdfsd fsdf sdf dsf sdf sdf sd\")"
   ]
  },
  {
   "cell_type": "code",
   "execution_count": 9,
   "metadata": {
    "collapsed": true
   },
   "outputs": [],
   "source": [
    "f.close()"
   ]
  },
  {
   "cell_type": "code",
   "execution_count": 10,
   "metadata": {
    "collapsed": true
   },
   "outputs": [],
   "source": [
    "f=open(\"data.txt\",'a')\n",
    "f.write(\"\\n added in the append mode\")\n",
    "f.close()"
   ]
  },
  {
   "cell_type": "code",
   "execution_count": 11,
   "metadata": {
    "collapsed": false
   },
   "outputs": [
    {
     "ename": "TypeError",
     "evalue": "expected a string or other character buffer object",
     "output_type": "error",
     "traceback": [
      "\u001b[0;31m---------------------------------------------------------------------------\u001b[0m",
      "\u001b[0;31mTypeError\u001b[0m                                 Traceback (most recent call last)",
      "\u001b[0;32m<ipython-input-11-48c93b5e6aa3>\u001b[0m in \u001b[0;36m<module>\u001b[0;34m()\u001b[0m\n\u001b[1;32m      1\u001b[0m \u001b[0mf\u001b[0m\u001b[0;34m=\u001b[0m\u001b[0mopen\u001b[0m\u001b[0;34m(\u001b[0m\u001b[0;34m\"data.txt\"\u001b[0m\u001b[0;34m,\u001b[0m\u001b[0;34m'a'\u001b[0m\u001b[0;34m)\u001b[0m\u001b[0;34m\u001b[0m\u001b[0m\n\u001b[1;32m      2\u001b[0m \u001b[0mdata\u001b[0m\u001b[0;34m=\u001b[0m\u001b[0;34m[\u001b[0m\u001b[0;34m'emp1'\u001b[0m\u001b[0;34m,\u001b[0m\u001b[0;34m'emp2'\u001b[0m\u001b[0;34m,\u001b[0m\u001b[0;34m'emp3'\u001b[0m\u001b[0;34m,\u001b[0m\u001b[0;34m'emp4'\u001b[0m\u001b[0;34m]\u001b[0m\u001b[0;34m\u001b[0m\u001b[0m\n\u001b[0;32m----> 3\u001b[0;31m \u001b[0mf\u001b[0m\u001b[0;34m.\u001b[0m\u001b[0mwrite\u001b[0m\u001b[0;34m(\u001b[0m\u001b[0mdata\u001b[0m\u001b[0;34m)\u001b[0m\u001b[0;34m\u001b[0m\u001b[0m\n\u001b[0m\u001b[1;32m      4\u001b[0m \u001b[0mf\u001b[0m\u001b[0;34m.\u001b[0m\u001b[0mclose\u001b[0m\u001b[0;34m(\u001b[0m\u001b[0;34m)\u001b[0m\u001b[0;34m\u001b[0m\u001b[0m\n",
      "\u001b[0;31mTypeError\u001b[0m: expected a string or other character buffer object"
     ]
    }
   ],
   "source": [
    "f=open(\"data.txt\",'a')\n",
    "data=['emp1','emp2','emp3','emp4']\n",
    "f.write(data)\n",
    "f.close()"
   ]
  },
  {
   "cell_type": "code",
   "execution_count": 12,
   "metadata": {
    "collapsed": true
   },
   "outputs": [],
   "source": [
    "f=open(\"data.txt\",'a')\n",
    "data=['emp1','emp2','emp3','emp4']\n",
    "f.writelines(data)\n",
    "f.close()"
   ]
  },
  {
   "cell_type": "code",
   "execution_count": 13,
   "metadata": {
    "collapsed": true
   },
   "outputs": [],
   "source": [
    "f=open(\"data.txt\",'a')\n",
    "data=['emp1','emp2','emp3','emp4']\n",
    "data_str = \"\".join(data)\n",
    "f.write(data_str)\n",
    "f.close()"
   ]
  },
  {
   "cell_type": "code",
   "execution_count": 14,
   "metadata": {
    "collapsed": false
   },
   "outputs": [
    {
     "ename": "ValueError",
     "evalue": "I/O operation on closed file",
     "output_type": "error",
     "traceback": [
      "\u001b[0;31m---------------------------------------------------------------------------\u001b[0m",
      "\u001b[0;31mValueError\u001b[0m                                Traceback (most recent call last)",
      "\u001b[0;32m<ipython-input-14-bc97a86dc84d>\u001b[0m in \u001b[0;36m<module>\u001b[0;34m()\u001b[0m\n\u001b[0;32m----> 1\u001b[0;31m \u001b[0mf\u001b[0m\u001b[0;34m.\u001b[0m\u001b[0mwrite\u001b[0m\u001b[0;34m(\u001b[0m\u001b[0;34m\"some data want to write after close\"\u001b[0m\u001b[0;34m)\u001b[0m\u001b[0;34m\u001b[0m\u001b[0m\n\u001b[0m",
      "\u001b[0;31mValueError\u001b[0m: I/O operation on closed file"
     ]
    }
   ],
   "source": [
    "f.write(\"some data want to write after close\")"
   ]
  },
  {
   "cell_type": "code",
   "execution_count": 15,
   "metadata": {
    "collapsed": true
   },
   "outputs": [],
   "source": [
    "f=open(\"data.txt\",'w')\n",
    "f.write(\"data in to file\")"
   ]
  },
  {
   "cell_type": "code",
   "execution_count": 16,
   "metadata": {
    "collapsed": true
   },
   "outputs": [],
   "source": [
    "f.flush()"
   ]
  },
  {
   "cell_type": "code",
   "execution_count": 17,
   "metadata": {
    "collapsed": true
   },
   "outputs": [],
   "source": [
    "f.writelines(['str1','str2','str3','str4'])"
   ]
  },
  {
   "cell_type": "code",
   "execution_count": 18,
   "metadata": {
    "collapsed": true
   },
   "outputs": [],
   "source": [
    "f.flush()"
   ]
  },
  {
   "cell_type": "code",
   "execution_count": 19,
   "metadata": {
    "collapsed": true
   },
   "outputs": [],
   "source": [
    "data=['emp1','emp2','emp3','emp4']\n",
    "data_str = \"\".join(data)"
   ]
  },
  {
   "cell_type": "code",
   "execution_count": 20,
   "metadata": {
    "collapsed": false
   },
   "outputs": [
    {
     "data": {
      "text/plain": [
       "'emp1emp2emp3emp4'"
      ]
     },
     "execution_count": 20,
     "metadata": {},
     "output_type": "execute_result"
    }
   ],
   "source": [
    "data_str"
   ]
  },
  {
   "cell_type": "code",
   "execution_count": 21,
   "metadata": {
    "collapsed": false
   },
   "outputs": [
    {
     "data": {
      "text/plain": [
       "str"
      ]
     },
     "execution_count": 21,
     "metadata": {},
     "output_type": "execute_result"
    }
   ],
   "source": [
    "type(data_str)"
   ]
  },
  {
   "cell_type": "code",
   "execution_count": 22,
   "metadata": {
    "collapsed": true
   },
   "outputs": [],
   "source": [
    "f=open(\"data.csv\",'w')\n",
    "import random\n",
    "ages=range(23,50)\n",
    "for i in range(100):\n",
    "    age=random.choice(ages)\n",
    "    f.write(\"%s,name%s,%s\"%(i,i,age))\n",
    "f.close()\n",
    "    "
   ]
  },
  {
   "cell_type": "code",
   "execution_count": 23,
   "metadata": {
    "collapsed": true
   },
   "outputs": [],
   "source": [
    "f=open(\"data.csv\",'w')\n",
    "import random\n",
    "ages=range(23,50)\n",
    "for i in range(100):\n",
    "    age=random.choice(ages)\n",
    "    f.write(\"%s,name%s,%s\\n\"%(i,i,age))\n",
    "f.close()\n",
    "    "
   ]
  },
  {
   "cell_type": "code",
   "execution_count": 24,
   "metadata": {
    "collapsed": false
   },
   "outputs": [
    {
     "ename": "IOError",
     "evalue": "[Errno 2] No such file or directory: 'data2.csv'",
     "output_type": "error",
     "traceback": [
      "\u001b[0;31m---------------------------------------------------------------------------\u001b[0m",
      "\u001b[0;31mIOError\u001b[0m                                   Traceback (most recent call last)",
      "\u001b[0;32m<ipython-input-24-796ce1a16f50>\u001b[0m in \u001b[0;36m<module>\u001b[0;34m()\u001b[0m\n\u001b[0;32m----> 1\u001b[0;31m \u001b[0mf\u001b[0m\u001b[0;34m=\u001b[0m\u001b[0mopen\u001b[0m\u001b[0;34m(\u001b[0m\u001b[0;34m'data2.csv'\u001b[0m\u001b[0;34m,\u001b[0m\u001b[0;34m'r'\u001b[0m\u001b[0;34m)\u001b[0m\u001b[0;34m\u001b[0m\u001b[0m\n\u001b[0m",
      "\u001b[0;31mIOError\u001b[0m: [Errno 2] No such file or directory: 'data2.csv'"
     ]
    }
   ],
   "source": [
    "f=open('data2.csv','r')"
   ]
  },
  {
   "cell_type": "code",
   "execution_count": 25,
   "metadata": {
    "collapsed": false
   },
   "outputs": [
    {
     "name": "stdout",
     "output_type": "stream",
     "text": [
      "0,name0,34\n",
      "1,name1,46\n",
      "2,name2,45\n",
      "3,name3,47\n",
      "4,name4,46\n",
      "5,name5,30\n",
      "6,name6,45\n",
      "7,name7,23\n",
      "8,name8,45\n",
      "9,name9,30\n",
      "10,name10,24\n",
      "11,name11,26\n",
      "12,name12,39\n",
      "13,name13,45\n",
      "14,name14,26\n",
      "15,name15,27\n",
      "16,name16,35\n",
      "17,name17,48\n",
      "18,name18,39\n",
      "19,name19,30\n",
      "20,name20,43\n",
      "21,name21,40\n",
      "22,name22,41\n",
      "23,name23,25\n",
      "24,name24,47\n",
      "25,name25,45\n",
      "26,name26,43\n",
      "27,name27,31\n",
      "28,name28,29\n",
      "29,name29,36\n",
      "30,name30,44\n",
      "31,name31,38\n",
      "32,name32,41\n",
      "33,name33,25\n",
      "34,name34,26\n",
      "35,name35,35\n",
      "36,name36,26\n",
      "37,name37,43\n",
      "38,name38,31\n",
      "39,name39,28\n",
      "40,name40,35\n",
      "41,name41,34\n",
      "42,name42,39\n",
      "43,name43,38\n",
      "44,name44,47\n",
      "45,name45,32\n",
      "46,name46,23\n",
      "47,name47,43\n",
      "48,name48,25\n",
      "49,name49,30\n",
      "50,name50,44\n",
      "51,name51,28\n",
      "52,name52,34\n",
      "53,name53,40\n",
      "54,name54,23\n",
      "55,name55,35\n",
      "56,name56,35\n",
      "57,name57,42\n",
      "58,name58,36\n",
      "59,name59,43\n",
      "60,name60,38\n",
      "61,name61,39\n",
      "62,name62,39\n",
      "63,name63,28\n",
      "64,name64,32\n",
      "65,name65,29\n",
      "66,name66,29\n",
      "67,name67,37\n",
      "68,name68,39\n",
      "69,name69,34\n",
      "70,name70,23\n",
      "71,name71,39\n",
      "72,name72,49\n",
      "73,name73,24\n",
      "74,name74,23\n",
      "75,name75,44\n",
      "76,name76,34\n",
      "77,name77,38\n",
      "78,name78,25\n",
      "79,name79,43\n",
      "80,name80,27\n",
      "81,name81,27\n",
      "82,name82,39\n",
      "83,name83,37\n",
      "84,name84,41\n",
      "85,name85,42\n",
      "86,name86,36\n",
      "87,name87,49\n",
      "88,name88,46\n",
      "89,name89,27\n",
      "90,name90,37\n",
      "91,name91,31\n",
      "92,name92,48\n",
      "93,name93,42\n",
      "94,name94,23\n",
      "95,name95,49\n",
      "96,name96,45\n",
      "97,name97,41\n",
      "98,name98,35\n",
      "99,name99,27\n",
      "\n"
     ]
    }
   ],
   "source": [
    "f=open('data.csv','r')\n",
    "data = f.read()\n",
    "print data"
   ]
  },
  {
   "cell_type": "code",
   "execution_count": 26,
   "metadata": {
    "collapsed": false
   },
   "outputs": [
    {
     "data": {
      "text/plain": [
       "'0,name0,34\\n1,name1,46\\n2,name2,45\\n3,name3,47\\n4,name4,46\\n5,name5,30\\n6,name6,45\\n7,name7,23\\n8,name8,45\\n9,name9,30\\n10,name10,24\\n11,name11,26\\n12,name12,39\\n13,name13,45\\n14,name14,26\\n15,name15,27\\n16,name16,35\\n17,name17,48\\n18,name18,39\\n19,name19,30\\n20,name20,43\\n21,name21,40\\n22,name22,41\\n23,name23,25\\n24,name24,47\\n25,name25,45\\n26,name26,43\\n27,name27,31\\n28,name28,29\\n29,name29,36\\n30,name30,44\\n31,name31,38\\n32,name32,41\\n33,name33,25\\n34,name34,26\\n35,name35,35\\n36,name36,26\\n37,name37,43\\n38,name38,31\\n39,name39,28\\n40,name40,35\\n41,name41,34\\n42,name42,39\\n43,name43,38\\n44,name44,47\\n45,name45,32\\n46,name46,23\\n47,name47,43\\n48,name48,25\\n49,name49,30\\n50,name50,44\\n51,name51,28\\n52,name52,34\\n53,name53,40\\n54,name54,23\\n55,name55,35\\n56,name56,35\\n57,name57,42\\n58,name58,36\\n59,name59,43\\n60,name60,38\\n61,name61,39\\n62,name62,39\\n63,name63,28\\n64,name64,32\\n65,name65,29\\n66,name66,29\\n67,name67,37\\n68,name68,39\\n69,name69,34\\n70,name70,23\\n71,name71,39\\n72,name72,49\\n73,name73,24\\n74,name74,23\\n75,name75,44\\n76,name76,34\\n77,name77,38\\n78,name78,25\\n79,name79,43\\n80,name80,27\\n81,name81,27\\n82,name82,39\\n83,name83,37\\n84,name84,41\\n85,name85,42\\n86,name86,36\\n87,name87,49\\n88,name88,46\\n89,name89,27\\n90,name90,37\\n91,name91,31\\n92,name92,48\\n93,name93,42\\n94,name94,23\\n95,name95,49\\n96,name96,45\\n97,name97,41\\n98,name98,35\\n99,name99,27\\n'"
      ]
     },
     "execution_count": 26,
     "metadata": {},
     "output_type": "execute_result"
    }
   ],
   "source": [
    "data"
   ]
  },
  {
   "cell_type": "code",
   "execution_count": 27,
   "metadata": {
    "collapsed": false
   },
   "outputs": [
    {
     "data": {
      "text/plain": [
       "str"
      ]
     },
     "execution_count": 27,
     "metadata": {},
     "output_type": "execute_result"
    }
   ],
   "source": [
    "type(data)"
   ]
  },
  {
   "cell_type": "code",
   "execution_count": 28,
   "metadata": {
    "collapsed": false
   },
   "outputs": [
    {
     "name": "stdout",
     "output_type": "stream",
     "text": [
      "0\n"
     ]
    }
   ],
   "source": [
    "for i in data:\n",
    "    print i\n",
    "    break"
   ]
  },
  {
   "cell_type": "code",
   "execution_count": 29,
   "metadata": {
    "collapsed": true
   },
   "outputs": [],
   "source": [
    "data_list = data.split(\"\\n\")"
   ]
  },
  {
   "cell_type": "code",
   "execution_count": 31,
   "metadata": {
    "collapsed": false
   },
   "outputs": [
    {
     "data": {
      "text/plain": [
       "'0,name0,34'"
      ]
     },
     "execution_count": 31,
     "metadata": {},
     "output_type": "execute_result"
    }
   ],
   "source": [
    "data_list[0]"
   ]
  },
  {
   "cell_type": "code",
   "execution_count": 32,
   "metadata": {
    "collapsed": false
   },
   "outputs": [
    {
     "data": {
      "text/plain": [
       "'1,name1,46'"
      ]
     },
     "execution_count": 32,
     "metadata": {},
     "output_type": "execute_result"
    }
   ],
   "source": [
    "data_list[1]"
   ]
  },
  {
   "cell_type": "code",
   "execution_count": 33,
   "metadata": {
    "collapsed": false
   },
   "outputs": [
    {
     "name": "stdout",
     "output_type": "stream",
     "text": [
      "0,name0,34\n"
     ]
    }
   ],
   "source": [
    "for i in data_list:\n",
    "    print i\n",
    "    break"
   ]
  },
  {
   "cell_type": "code",
   "execution_count": 34,
   "metadata": {
    "collapsed": false
   },
   "outputs": [
    {
     "name": "stdout",
     "output_type": "stream",
     "text": [
      "c\n",
      "cpp\n",
      "php\n",
      "python\n"
     ]
    }
   ],
   "source": [
    "l=['c','cpp','php','python']\n",
    "for i in l:\n",
    "    print i"
   ]
  },
  {
   "cell_type": "code",
   "execution_count": 35,
   "metadata": {
    "collapsed": false
   },
   "outputs": [
    {
     "ename": "TypeError",
     "evalue": "list indices must be integers, not str",
     "output_type": "error",
     "traceback": [
      "\u001b[0;31m---------------------------------------------------------------------------\u001b[0m",
      "\u001b[0;31mTypeError\u001b[0m                                 Traceback (most recent call last)",
      "\u001b[0;32m<ipython-input-35-62b69c69a735>\u001b[0m in \u001b[0;36m<module>\u001b[0;34m()\u001b[0m\n\u001b[1;32m      1\u001b[0m \u001b[0ml\u001b[0m\u001b[0;34m=\u001b[0m\u001b[0;34m[\u001b[0m\u001b[0;34m'c'\u001b[0m\u001b[0;34m,\u001b[0m\u001b[0;34m'cpp'\u001b[0m\u001b[0;34m,\u001b[0m\u001b[0;34m'php'\u001b[0m\u001b[0;34m,\u001b[0m\u001b[0;34m'python'\u001b[0m\u001b[0;34m]\u001b[0m\u001b[0;34m\u001b[0m\u001b[0m\n\u001b[1;32m      2\u001b[0m \u001b[0;32mfor\u001b[0m \u001b[0mi\u001b[0m \u001b[0;32min\u001b[0m \u001b[0ml\u001b[0m\u001b[0;34m:\u001b[0m\u001b[0;34m\u001b[0m\u001b[0m\n\u001b[0;32m----> 3\u001b[0;31m     \u001b[0;32mprint\u001b[0m \u001b[0ml\u001b[0m\u001b[0;34m[\u001b[0m\u001b[0mi\u001b[0m\u001b[0;34m]\u001b[0m\u001b[0;34m\u001b[0m\u001b[0m\n\u001b[0m",
      "\u001b[0;31mTypeError\u001b[0m: list indices must be integers, not str"
     ]
    }
   ],
   "source": [
    "l=['c','cpp','php','python']\n",
    "for i in l:\n",
    "    print l[i]"
   ]
  },
  {
   "cell_type": "code",
   "execution_count": 37,
   "metadata": {
    "collapsed": false
   },
   "outputs": [
    {
     "name": "stdout",
     "output_type": "stream",
     "text": [
      "<type 'str'>\n",
      "0\n"
     ]
    }
   ],
   "source": [
    "f=open('data.csv','r')\n",
    "data = f.read()\n",
    "print type(data)\n",
    "print data[0]\n",
    "f.close()"
   ]
  },
  {
   "cell_type": "code",
   "execution_count": 38,
   "metadata": {
    "collapsed": false
   },
   "outputs": [
    {
     "name": "stdout",
     "output_type": "stream",
     "text": [
      "<type 'list'>\n",
      "0,name0,34\n",
      "\n"
     ]
    }
   ],
   "source": [
    "f=open('data.csv','r')\n",
    "data = f.readlines()\n",
    "print type(data)\n",
    "print data[0]\n",
    "f.close()"
   ]
  },
  {
   "cell_type": "code",
   "execution_count": 41,
   "metadata": {
    "collapsed": false
   },
   "outputs": [
    {
     "name": "stdout",
     "output_type": "stream",
     "text": [
      "34\n",
      "\n",
      "46\n",
      "\n",
      "45\n",
      "\n",
      "47\n",
      "\n",
      "46\n",
      "\n",
      "30\n",
      "\n",
      "45\n",
      "\n",
      "23\n",
      "\n",
      "45\n",
      "\n",
      "30\n",
      "\n",
      "24\n",
      "\n",
      "26\n",
      "\n",
      "39\n",
      "\n",
      "45\n",
      "\n",
      "26\n",
      "\n",
      "27\n",
      "\n",
      "35\n",
      "\n",
      "48\n",
      "\n",
      "39\n",
      "\n",
      "30\n",
      "\n",
      "43\n",
      "\n",
      "40\n",
      "\n",
      "41\n",
      "\n",
      "25\n",
      "\n",
      "47\n",
      "\n",
      "45\n",
      "\n",
      "43\n",
      "\n",
      "31\n",
      "\n",
      "29\n",
      "\n",
      "36\n",
      "\n",
      "44\n",
      "\n",
      "38\n",
      "\n",
      "41\n",
      "\n",
      "25\n",
      "\n",
      "26\n",
      "\n",
      "35\n",
      "\n",
      "26\n",
      "\n",
      "43\n",
      "\n",
      "31\n",
      "\n",
      "28\n",
      "\n",
      "35\n",
      "\n",
      "34\n",
      "\n",
      "39\n",
      "\n",
      "38\n",
      "\n",
      "47\n",
      "\n",
      "32\n",
      "\n",
      "23\n",
      "\n",
      "43\n",
      "\n",
      "25\n",
      "\n",
      "30\n",
      "\n",
      "44\n",
      "\n",
      "28\n",
      "\n",
      "34\n",
      "\n",
      "40\n",
      "\n",
      "23\n",
      "\n",
      "35\n",
      "\n",
      "35\n",
      "\n",
      "42\n",
      "\n",
      "36\n",
      "\n",
      "43\n",
      "\n",
      "38\n",
      "\n",
      "39\n",
      "\n",
      "39\n",
      "\n",
      "28\n",
      "\n",
      "32\n",
      "\n",
      "29\n",
      "\n",
      "29\n",
      "\n",
      "37\n",
      "\n",
      "39\n",
      "\n",
      "34\n",
      "\n",
      "23\n",
      "\n",
      "39\n",
      "\n",
      "49\n",
      "\n",
      "24\n",
      "\n",
      "23\n",
      "\n",
      "44\n",
      "\n",
      "34\n",
      "\n",
      "38\n",
      "\n",
      "25\n",
      "\n",
      "43\n",
      "\n",
      "27\n",
      "\n",
      "27\n",
      "\n",
      "39\n",
      "\n",
      "37\n",
      "\n",
      "41\n",
      "\n",
      "42\n",
      "\n",
      "36\n",
      "\n",
      "49\n",
      "\n",
      "46\n",
      "\n",
      "27\n",
      "\n",
      "37\n",
      "\n",
      "31\n",
      "\n",
      "48\n",
      "\n",
      "42\n",
      "\n",
      "23\n",
      "\n",
      "49\n",
      "\n",
      "45\n",
      "\n",
      "41\n",
      "\n",
      "35\n",
      "\n",
      "27\n",
      "\n"
     ]
    }
   ],
   "source": [
    "for rec in data:\n",
    "    print rec.split(',')[-1]\n",
    "    if rec.split(',')[-1]=='34':\n",
    "        print rec"
   ]
  },
  {
   "cell_type": "code",
   "execution_count": 43,
   "metadata": {
    "collapsed": false
   },
   "outputs": [
    {
     "name": "stdout",
     "output_type": "stream",
     "text": [
      "0,name0,34\n",
      "\n",
      "34\n",
      "\n"
     ]
    }
   ],
   "source": [
    "for rec in data:\n",
    "    print rec\n",
    "    print rec.split(',')[-1]\n",
    "    if rec.split(',')[-1]=='34':\n",
    "        print rec\n",
    "    break"
   ]
  },
  {
   "cell_type": "code",
   "execution_count": 44,
   "metadata": {
    "collapsed": false
   },
   "outputs": [
    {
     "data": {
      "text/plain": [
       "'0,name0,34\\n'"
      ]
     },
     "execution_count": 44,
     "metadata": {},
     "output_type": "execute_result"
    }
   ],
   "source": [
    "rec"
   ]
  },
  {
   "cell_type": "code",
   "execution_count": 45,
   "metadata": {
    "collapsed": false
   },
   "outputs": [
    {
     "data": {
      "text/plain": [
       "'34\\n'"
      ]
     },
     "execution_count": 45,
     "metadata": {},
     "output_type": "execute_result"
    }
   ],
   "source": [
    "rec.split(',')[-1]"
   ]
  },
  {
   "cell_type": "code",
   "execution_count": 46,
   "metadata": {
    "collapsed": false
   },
   "outputs": [
    {
     "name": "stdout",
     "output_type": "stream",
     "text": [
      "0,name0,34\n",
      "\n"
     ]
    }
   ],
   "source": [
    "print rec"
   ]
  },
  {
   "cell_type": "code",
   "execution_count": 47,
   "metadata": {
    "collapsed": false
   },
   "outputs": [
    {
     "name": "stdout",
     "output_type": "stream",
     "text": [
      "34\n",
      "\n"
     ]
    }
   ],
   "source": [
    "print rec.split(',')[-1]"
   ]
  },
  {
   "cell_type": "code",
   "execution_count": 49,
   "metadata": {
    "collapsed": false
   },
   "outputs": [
    {
     "name": "stdout",
     "output_type": "stream",
     "text": [
      "0,name0,34\n",
      "\n",
      "0,name0,34\n",
      "\n"
     ]
    }
   ],
   "source": [
    "for rec in data:\n",
    "    print rec\n",
    "    age = rec.split(',')[-1]\n",
    "    age = age.strip('\\n')\n",
    "    if age=='34':\n",
    "        print rec\n",
    "    break"
   ]
  },
  {
   "cell_type": "code",
   "execution_count": 50,
   "metadata": {
    "collapsed": false
   },
   "outputs": [
    {
     "name": "stdout",
     "output_type": "stream",
     "text": [
      "0,name0,34\n",
      "\n",
      "41,name41,34\n",
      "\n",
      "52,name52,34\n",
      "\n",
      "69,name69,34\n",
      "\n",
      "76,name76,34\n",
      "\n"
     ]
    }
   ],
   "source": [
    "for rec in data:\n",
    "    age = rec.split(',')[-1]\n",
    "    age = age.strip('\\n')\n",
    "    if age=='34':\n",
    "        print rec"
   ]
  },
  {
   "cell_type": "code",
   "execution_count": null,
   "metadata": {
    "collapsed": true
   },
   "outputs": [],
   "source": []
  }
 ],
 "metadata": {
  "kernelspec": {
   "display_name": "Python 2",
   "language": "python",
   "name": "python2"
  },
  "language_info": {
   "codemirror_mode": {
    "name": "ipython",
    "version": 2
   },
   "file_extension": ".py",
   "mimetype": "text/x-python",
   "name": "python",
   "nbconvert_exporter": "python",
   "pygments_lexer": "ipython2",
   "version": "2.7.13"
  }
 },
 "nbformat": 4,
 "nbformat_minor": 2
}

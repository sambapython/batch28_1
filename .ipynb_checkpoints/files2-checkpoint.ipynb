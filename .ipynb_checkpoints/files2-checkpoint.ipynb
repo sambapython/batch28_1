{
 "cells": [
  {
   "cell_type": "code",
   "execution_count": 1,
   "metadata": {
    "collapsed": false
   },
   "outputs": [
    {
     "data": {
      "text/plain": [
       "'0,name0,34\\n1,name1,46\\n2,name2,45\\n3,name3,47\\n4,name4,46\\n5,name5,30\\n6,name6,45\\n7,name7,23\\n8,name8,45\\n9,name9,30\\n10,name10,24\\n11,name11,26\\n12,name12,39\\n13,name13,45\\n14,name14,26\\n15,name15,27\\n16,name16,35\\n17,name17,48\\n18,name18,39\\n19,name19,30\\n20,name20,43\\n21,name21,40\\n22,name22,41\\n23,name23,25\\n24,name24,47\\n25,name25,45\\n26,name26,43\\n27,name27,31\\n28,name28,29\\n29,name29,36\\n30,name30,44\\n31,name31,38\\n32,name32,41\\n33,name33,25\\n34,name34,26\\n35,name35,35\\n36,name36,26\\n37,name37,43\\n38,name38,31\\n39,name39,28\\n40,name40,35\\n41,name41,34\\n42,name42,39\\n43,name43,38\\n44,name44,47\\n45,name45,32\\n46,name46,23\\n47,name47,43\\n48,name48,25\\n49,name49,30\\n50,name50,44\\n51,name51,28\\n52,name52,34\\n53,name53,40\\n54,name54,23\\n55,name55,35\\n56,name56,35\\n57,name57,42\\n58,name58,36\\n59,name59,43\\n60,name60,38\\n61,name61,39\\n62,name62,39\\n63,name63,28\\n64,name64,32\\n65,name65,29\\n66,name66,29\\n67,name67,37\\n68,name68,39\\n69,name69,34\\n70,name70,23\\n71,name71,39\\n72,name72,49\\n73,name73,24\\n74,name74,23\\n75,name75,44\\n76,name76,34\\n77,name77,38\\n78,name78,25\\n79,name79,43\\n80,name80,27\\n81,name81,27\\n82,name82,39\\n83,name83,37\\n84,name84,41\\n85,name85,42\\n86,name86,36\\n87,name87,49\\n88,name88,46\\n89,name89,27\\n90,name90,37\\n91,name91,31\\n92,name92,48\\n93,name93,42\\n94,name94,23\\n95,name95,49\\n96,name96,45\\n97,name97,41\\n98,name98,35\\n99,name99,27\\n'"
      ]
     },
     "execution_count": 1,
     "metadata": {},
     "output_type": "execute_result"
    }
   ],
   "source": [
    "f=open('data.csv')\n",
    "data=f.read()\n",
    "data"
   ]
  },
  {
   "cell_type": "code",
   "execution_count": 2,
   "metadata": {
    "collapsed": true
   },
   "outputs": [],
   "source": [
    "data1=f.read()"
   ]
  },
  {
   "cell_type": "code",
   "execution_count": 3,
   "metadata": {
    "collapsed": false
   },
   "outputs": [
    {
     "name": "stdout",
     "output_type": "stream",
     "text": [
      "\n"
     ]
    }
   ],
   "source": [
    "print data1"
   ]
  },
  {
   "cell_type": "code",
   "execution_count": 4,
   "metadata": {
    "collapsed": false
   },
   "outputs": [
    {
     "name": "stdout",
     "output_type": "stream",
     "text": [
      "0\n",
      "1280\n"
     ]
    }
   ],
   "source": [
    "f=open('data.csv')\n",
    "print f.tell()\n",
    "data=f.read()\n",
    "print f.tell()"
   ]
  },
  {
   "cell_type": "code",
   "execution_count": 5,
   "metadata": {
    "collapsed": false
   },
   "outputs": [
    {
     "name": "stdout",
     "output_type": "stream",
     "text": [
      "1280\n"
     ]
    }
   ],
   "source": [
    "data1=f.read()\n",
    "print f.tell()"
   ]
  },
  {
   "cell_type": "code",
   "execution_count": 8,
   "metadata": {
    "collapsed": false,
    "scrolled": true
   },
   "outputs": [
    {
     "name": "stdout",
     "output_type": "stream",
     "text": [
      "0\n",
      "1280\n",
      "0\n"
     ]
    }
   ],
   "source": [
    "f=open('data.csv')\n",
    "print f.tell()\n",
    "data=f.read()\n",
    "print f.tell()\n",
    "f.seek(0)\n",
    "print f.tell()\n",
    "data1=f.read()"
   ]
  },
  {
   "cell_type": "code",
   "execution_count": 7,
   "metadata": {
    "collapsed": false
   },
   "outputs": [
    {
     "data": {
      "text/plain": [
       "'0,name0,34\\n1,name1,46\\n2,name2,45\\n3,name3,47\\n4,name4,46\\n5,name5,30\\n6,name6,45\\n7,name7,23\\n8,name8,45\\n9,name9,30\\n10,name10,24\\n11,name11,26\\n12,name12,39\\n13,name13,45\\n14,name14,26\\n15,name15,27\\n16,name16,35\\n17,name17,48\\n18,name18,39\\n19,name19,30\\n20,name20,43\\n21,name21,40\\n22,name22,41\\n23,name23,25\\n24,name24,47\\n25,name25,45\\n26,name26,43\\n27,name27,31\\n28,name28,29\\n29,name29,36\\n30,name30,44\\n31,name31,38\\n32,name32,41\\n33,name33,25\\n34,name34,26\\n35,name35,35\\n36,name36,26\\n37,name37,43\\n38,name38,31\\n39,name39,28\\n40,name40,35\\n41,name41,34\\n42,name42,39\\n43,name43,38\\n44,name44,47\\n45,name45,32\\n46,name46,23\\n47,name47,43\\n48,name48,25\\n49,name49,30\\n50,name50,44\\n51,name51,28\\n52,name52,34\\n53,name53,40\\n54,name54,23\\n55,name55,35\\n56,name56,35\\n57,name57,42\\n58,name58,36\\n59,name59,43\\n60,name60,38\\n61,name61,39\\n62,name62,39\\n63,name63,28\\n64,name64,32\\n65,name65,29\\n66,name66,29\\n67,name67,37\\n68,name68,39\\n69,name69,34\\n70,name70,23\\n71,name71,39\\n72,name72,49\\n73,name73,24\\n74,name74,23\\n75,name75,44\\n76,name76,34\\n77,name77,38\\n78,name78,25\\n79,name79,43\\n80,name80,27\\n81,name81,27\\n82,name82,39\\n83,name83,37\\n84,name84,41\\n85,name85,42\\n86,name86,36\\n87,name87,49\\n88,name88,46\\n89,name89,27\\n90,name90,37\\n91,name91,31\\n92,name92,48\\n93,name93,42\\n94,name94,23\\n95,name95,49\\n96,name96,45\\n97,name97,41\\n98,name98,35\\n99,name99,27\\n'"
      ]
     },
     "execution_count": 7,
     "metadata": {},
     "output_type": "execute_result"
    }
   ],
   "source": [
    "data1"
   ]
  },
  {
   "cell_type": "code",
   "execution_count": 9,
   "metadata": {
    "collapsed": false
   },
   "outputs": [
    {
     "name": "stdout",
     "output_type": "stream",
     "text": [
      "0\n",
      "0,name0,34\n",
      "\n",
      "11\n"
     ]
    }
   ],
   "source": [
    "f=open('data.csv')\n",
    "print f.tell()\n",
    "print f.readline()\n",
    "print f.tell()"
   ]
  },
  {
   "cell_type": "code",
   "execution_count": 10,
   "metadata": {
    "collapsed": false
   },
   "outputs": [
    {
     "name": "stdout",
     "output_type": "stream",
     "text": [
      "0\n",
      "0,name0,34\n",
      "\n",
      "11\n",
      "1,name1,46\n",
      "\n",
      "22\n"
     ]
    }
   ],
   "source": [
    "f=open('data.csv')\n",
    "print f.tell()\n",
    "print f.readline()\n",
    "print f.tell()\n",
    "print f.readline()\n",
    "print f.tell()"
   ]
  },
  {
   "cell_type": "code",
   "execution_count": 11,
   "metadata": {
    "collapsed": true
   },
   "outputs": [],
   "source": [
    "data1=f.readlines()"
   ]
  },
  {
   "cell_type": "code",
   "execution_count": 12,
   "metadata": {
    "collapsed": false
   },
   "outputs": [
    {
     "data": {
      "text/plain": [
       "['2,name2,45\\n',\n",
       " '3,name3,47\\n',\n",
       " '4,name4,46\\n',\n",
       " '5,name5,30\\n',\n",
       " '6,name6,45\\n',\n",
       " '7,name7,23\\n',\n",
       " '8,name8,45\\n',\n",
       " '9,name9,30\\n',\n",
       " '10,name10,24\\n',\n",
       " '11,name11,26\\n',\n",
       " '12,name12,39\\n',\n",
       " '13,name13,45\\n',\n",
       " '14,name14,26\\n',\n",
       " '15,name15,27\\n',\n",
       " '16,name16,35\\n',\n",
       " '17,name17,48\\n',\n",
       " '18,name18,39\\n',\n",
       " '19,name19,30\\n',\n",
       " '20,name20,43\\n',\n",
       " '21,name21,40\\n',\n",
       " '22,name22,41\\n',\n",
       " '23,name23,25\\n',\n",
       " '24,name24,47\\n',\n",
       " '25,name25,45\\n',\n",
       " '26,name26,43\\n',\n",
       " '27,name27,31\\n',\n",
       " '28,name28,29\\n',\n",
       " '29,name29,36\\n',\n",
       " '30,name30,44\\n',\n",
       " '31,name31,38\\n',\n",
       " '32,name32,41\\n',\n",
       " '33,name33,25\\n',\n",
       " '34,name34,26\\n',\n",
       " '35,name35,35\\n',\n",
       " '36,name36,26\\n',\n",
       " '37,name37,43\\n',\n",
       " '38,name38,31\\n',\n",
       " '39,name39,28\\n',\n",
       " '40,name40,35\\n',\n",
       " '41,name41,34\\n',\n",
       " '42,name42,39\\n',\n",
       " '43,name43,38\\n',\n",
       " '44,name44,47\\n',\n",
       " '45,name45,32\\n',\n",
       " '46,name46,23\\n',\n",
       " '47,name47,43\\n',\n",
       " '48,name48,25\\n',\n",
       " '49,name49,30\\n',\n",
       " '50,name50,44\\n',\n",
       " '51,name51,28\\n',\n",
       " '52,name52,34\\n',\n",
       " '53,name53,40\\n',\n",
       " '54,name54,23\\n',\n",
       " '55,name55,35\\n',\n",
       " '56,name56,35\\n',\n",
       " '57,name57,42\\n',\n",
       " '58,name58,36\\n',\n",
       " '59,name59,43\\n',\n",
       " '60,name60,38\\n',\n",
       " '61,name61,39\\n',\n",
       " '62,name62,39\\n',\n",
       " '63,name63,28\\n',\n",
       " '64,name64,32\\n',\n",
       " '65,name65,29\\n',\n",
       " '66,name66,29\\n',\n",
       " '67,name67,37\\n',\n",
       " '68,name68,39\\n',\n",
       " '69,name69,34\\n',\n",
       " '70,name70,23\\n',\n",
       " '71,name71,39\\n',\n",
       " '72,name72,49\\n',\n",
       " '73,name73,24\\n',\n",
       " '74,name74,23\\n',\n",
       " '75,name75,44\\n',\n",
       " '76,name76,34\\n',\n",
       " '77,name77,38\\n',\n",
       " '78,name78,25\\n',\n",
       " '79,name79,43\\n',\n",
       " '80,name80,27\\n',\n",
       " '81,name81,27\\n',\n",
       " '82,name82,39\\n',\n",
       " '83,name83,37\\n',\n",
       " '84,name84,41\\n',\n",
       " '85,name85,42\\n',\n",
       " '86,name86,36\\n',\n",
       " '87,name87,49\\n',\n",
       " '88,name88,46\\n',\n",
       " '89,name89,27\\n',\n",
       " '90,name90,37\\n',\n",
       " '91,name91,31\\n',\n",
       " '92,name92,48\\n',\n",
       " '93,name93,42\\n',\n",
       " '94,name94,23\\n',\n",
       " '95,name95,49\\n',\n",
       " '96,name96,45\\n',\n",
       " '97,name97,41\\n',\n",
       " '98,name98,35\\n',\n",
       " '99,name99,27\\n']"
      ]
     },
     "execution_count": 12,
     "metadata": {},
     "output_type": "execute_result"
    }
   ],
   "source": [
    "data1"
   ]
  },
  {
   "cell_type": "code",
   "execution_count": 13,
   "metadata": {
    "collapsed": true
   },
   "outputs": [],
   "source": [
    "f=open(\"data.csv\",'r')\n",
    "data  = f.read()\n",
    "f.close()\n",
    "data_mod = data.replace(\"name\",\"python_name\")"
   ]
  },
  {
   "cell_type": "code",
   "execution_count": 14,
   "metadata": {
    "collapsed": false
   },
   "outputs": [
    {
     "data": {
      "text/plain": [
       "'0,python_name0,34\\n1,python_name1,46\\n2,python_name2,45\\n3,python_name3,47\\n4,python_name4,46\\n5,python_name5,30\\n6,python_name6,45\\n7,python_name7,23\\n8,python_name8,45\\n9,python_name9,30\\n10,python_name10,24\\n11,python_name11,26\\n12,python_name12,39\\n13,python_name13,45\\n14,python_name14,26\\n15,python_name15,27\\n16,python_name16,35\\n17,python_name17,48\\n18,python_name18,39\\n19,python_name19,30\\n20,python_name20,43\\n21,python_name21,40\\n22,python_name22,41\\n23,python_name23,25\\n24,python_name24,47\\n25,python_name25,45\\n26,python_name26,43\\n27,python_name27,31\\n28,python_name28,29\\n29,python_name29,36\\n30,python_name30,44\\n31,python_name31,38\\n32,python_name32,41\\n33,python_name33,25\\n34,python_name34,26\\n35,python_name35,35\\n36,python_name36,26\\n37,python_name37,43\\n38,python_name38,31\\n39,python_name39,28\\n40,python_name40,35\\n41,python_name41,34\\n42,python_name42,39\\n43,python_name43,38\\n44,python_name44,47\\n45,python_name45,32\\n46,python_name46,23\\n47,python_name47,43\\n48,python_name48,25\\n49,python_name49,30\\n50,python_name50,44\\n51,python_name51,28\\n52,python_name52,34\\n53,python_name53,40\\n54,python_name54,23\\n55,python_name55,35\\n56,python_name56,35\\n57,python_name57,42\\n58,python_name58,36\\n59,python_name59,43\\n60,python_name60,38\\n61,python_name61,39\\n62,python_name62,39\\n63,python_name63,28\\n64,python_name64,32\\n65,python_name65,29\\n66,python_name66,29\\n67,python_name67,37\\n68,python_name68,39\\n69,python_name69,34\\n70,python_name70,23\\n71,python_name71,39\\n72,python_name72,49\\n73,python_name73,24\\n74,python_name74,23\\n75,python_name75,44\\n76,python_name76,34\\n77,python_name77,38\\n78,python_name78,25\\n79,python_name79,43\\n80,python_name80,27\\n81,python_name81,27\\n82,python_name82,39\\n83,python_name83,37\\n84,python_name84,41\\n85,python_name85,42\\n86,python_name86,36\\n87,python_name87,49\\n88,python_name88,46\\n89,python_name89,27\\n90,python_name90,37\\n91,python_name91,31\\n92,python_name92,48\\n93,python_name93,42\\n94,python_name94,23\\n95,python_name95,49\\n96,python_name96,45\\n97,python_name97,41\\n98,python_name98,35\\n99,python_name99,27\\n'"
      ]
     },
     "execution_count": 14,
     "metadata": {},
     "output_type": "execute_result"
    }
   ],
   "source": [
    "data_mod"
   ]
  },
  {
   "cell_type": "code",
   "execution_count": 15,
   "metadata": {
    "collapsed": true
   },
   "outputs": [],
   "source": [
    "f=open(\"data.csv\",'r')\n",
    "data  = f.read()\n",
    "f.close()\n",
    "data_mod = data.replace(\"name\",\"python_name\")\n",
    "f=open('data.csv','w')\n",
    "f.write(data_mod)\n",
    "f.close()"
   ]
  },
  {
   "cell_type": "code",
   "execution_count": 16,
   "metadata": {
    "collapsed": true
   },
   "outputs": [],
   "source": [
    "f=open('mem.jpg')\n",
    "data=f.read()\n",
    "f.close()\n",
    "f=open(\"mem1.jpg\",'wb')\n",
    "f.write(data)\n",
    "f.close()"
   ]
  },
  {
   "cell_type": "code",
   "execution_count": null,
   "metadata": {
    "collapsed": true
   },
   "outputs": [],
   "source": [
    "f=open(\"bulk.jpg\")\n",
    "for i in range(100000):\n",
    "    f.write(data)\n",
    "f.close()"
   ]
  },
  {
   "cell_type": "code",
   "execution_count": null,
   "metadata": {
    "collapsed": true
   },
   "outputs": [],
   "source": [
    "f=open(\"bulk.jpg\")\n",
    "for i in range(100000):\n",
    "    f.write(data)\n",
    "    f.flush()\n",
    "f.close()"
   ]
  },
  {
   "cell_type": "code",
   "execution_count": 17,
   "metadata": {
    "collapsed": false
   },
   "outputs": [
    {
     "ename": "TypeError",
     "evalue": "expected a string or other character buffer object",
     "output_type": "error",
     "traceback": [
      "\u001b[0;31m---------------------------------------------------------------------------\u001b[0m",
      "\u001b[0;31mTypeError\u001b[0m                                 Traceback (most recent call last)",
      "\u001b[0;32m<ipython-input-17-720251d81a06>\u001b[0m in \u001b[0;36m<module>\u001b[0;34m()\u001b[0m\n\u001b[1;32m      1\u001b[0m \u001b[0mf\u001b[0m\u001b[0;34m=\u001b[0m\u001b[0mopen\u001b[0m\u001b[0;34m(\u001b[0m\u001b[0;34m\"data1.txt\"\u001b[0m\u001b[0;34m,\u001b[0m\u001b[0;34m'w'\u001b[0m\u001b[0;34m)\u001b[0m\u001b[0;34m\u001b[0m\u001b[0m\n\u001b[0;32m----> 2\u001b[0;31m \u001b[0mf\u001b[0m\u001b[0;34m.\u001b[0m\u001b[0mwrite\u001b[0m\u001b[0;34m(\u001b[0m\u001b[0;36m1233445\u001b[0m\u001b[0;34m)\u001b[0m\u001b[0;34m\u001b[0m\u001b[0m\n\u001b[0m\u001b[1;32m      3\u001b[0m \u001b[0mf\u001b[0m\u001b[0;34m.\u001b[0m\u001b[0mclose\u001b[0m\u001b[0;34m(\u001b[0m\u001b[0;34m)\u001b[0m\u001b[0;34m\u001b[0m\u001b[0m\n",
      "\u001b[0;31mTypeError\u001b[0m: expected a string or other character buffer object"
     ]
    }
   ],
   "source": [
    "f=open(\"data1.txt\",'w')\n",
    "f.write(1233445)\n",
    "f.close()"
   ]
  },
  {
   "cell_type": "code",
   "execution_count": 18,
   "metadata": {
    "collapsed": false
   },
   "outputs": [
    {
     "ename": "TypeError",
     "evalue": "expected a string or other character buffer object",
     "output_type": "error",
     "traceback": [
      "\u001b[0;31m---------------------------------------------------------------------------\u001b[0m",
      "\u001b[0;31mTypeError\u001b[0m                                 Traceback (most recent call last)",
      "\u001b[0;32m<ipython-input-18-386508dfb242>\u001b[0m in \u001b[0;36m<module>\u001b[0;34m()\u001b[0m\n\u001b[1;32m      1\u001b[0m \u001b[0mc\u001b[0m\u001b[0;34m=\u001b[0m\u001b[0;34m{\u001b[0m\u001b[0;34m\"host\"\u001b[0m\u001b[0;34m:\u001b[0m\u001b[0;34m\"localhost\"\u001b[0m\u001b[0;34m,\u001b[0m\u001b[0;34m\"user\"\u001b[0m\u001b[0;34m:\u001b[0m\u001b[0;34m\"u1\"\u001b[0m\u001b[0;34m,\u001b[0m\u001b[0;34m\"password\"\u001b[0m\u001b[0;34m:\u001b[0m\u001b[0;34m\"pwd1\"\u001b[0m\u001b[0;34m}\u001b[0m\u001b[0;34m\u001b[0m\u001b[0m\n\u001b[1;32m      2\u001b[0m \u001b[0mf\u001b[0m\u001b[0;34m=\u001b[0m\u001b[0mopen\u001b[0m\u001b[0;34m(\u001b[0m\u001b[0;34m\"data1.txt\"\u001b[0m\u001b[0;34m,\u001b[0m\u001b[0;34m'w'\u001b[0m\u001b[0;34m)\u001b[0m\u001b[0;34m\u001b[0m\u001b[0m\n\u001b[0;32m----> 3\u001b[0;31m \u001b[0mf\u001b[0m\u001b[0;34m.\u001b[0m\u001b[0mwrite\u001b[0m\u001b[0;34m(\u001b[0m\u001b[0mc\u001b[0m\u001b[0;34m)\u001b[0m\u001b[0;34m\u001b[0m\u001b[0m\n\u001b[0m\u001b[1;32m      4\u001b[0m \u001b[0mf\u001b[0m\u001b[0;34m.\u001b[0m\u001b[0mclose\u001b[0m\u001b[0;34m(\u001b[0m\u001b[0;34m)\u001b[0m\u001b[0;34m\u001b[0m\u001b[0m\n",
      "\u001b[0;31mTypeError\u001b[0m: expected a string or other character buffer object"
     ]
    }
   ],
   "source": [
    "c={\"host\":\"localhost\",\"user\":\"u1\",\"password\":\"pwd1\"}\n",
    "f=open(\"data1.txt\",'w')\n",
    "f.write(c)\n",
    "f.close()"
   ]
  },
  {
   "cell_type": "code",
   "execution_count": 19,
   "metadata": {
    "collapsed": true
   },
   "outputs": [],
   "source": [
    "c={\"host\":\"localhost\",\"user\":\"u1\",\"password\":\"pwd1\"}\n",
    "f=open(\"data1.txt\",'w')\n",
    "f.write(str(c))\n",
    "f.close()"
   ]
  },
  {
   "cell_type": "code",
   "execution_count": 20,
   "metadata": {
    "collapsed": true
   },
   "outputs": [],
   "source": [
    "data = open('data1.txt').read()"
   ]
  },
  {
   "cell_type": "code",
   "execution_count": 21,
   "metadata": {
    "collapsed": false
   },
   "outputs": [
    {
     "data": {
      "text/plain": [
       "str"
      ]
     },
     "execution_count": 21,
     "metadata": {},
     "output_type": "execute_result"
    }
   ],
   "source": [
    "type(data)"
   ]
  },
  {
   "cell_type": "code",
   "execution_count": 22,
   "metadata": {
    "collapsed": false
   },
   "outputs": [
    {
     "name": "stdout",
     "output_type": "stream",
     "text": [
      "{'host': 'localhost', 'password': 'pwd1', 'user': 'u1'}\n"
     ]
    }
   ],
   "source": [
    "print data"
   ]
  },
  {
   "cell_type": "code",
   "execution_count": 23,
   "metadata": {
    "collapsed": false
   },
   "outputs": [
    {
     "ename": "TypeError",
     "evalue": "string indices must be integers, not str",
     "output_type": "error",
     "traceback": [
      "\u001b[0;31m---------------------------------------------------------------------------\u001b[0m",
      "\u001b[0;31mTypeError\u001b[0m                                 Traceback (most recent call last)",
      "\u001b[0;32m<ipython-input-23-6dcbf0e80f29>\u001b[0m in \u001b[0;36m<module>\u001b[0;34m()\u001b[0m\n\u001b[0;32m----> 1\u001b[0;31m \u001b[0mdata\u001b[0m\u001b[0;34m[\u001b[0m\u001b[0;34m'host'\u001b[0m\u001b[0;34m]\u001b[0m\u001b[0;34m\u001b[0m\u001b[0m\n\u001b[0m",
      "\u001b[0;31mTypeError\u001b[0m: string indices must be integers, not str"
     ]
    }
   ],
   "source": [
    "data['host']"
   ]
  },
  {
   "cell_type": "code",
   "execution_count": 24,
   "metadata": {
    "collapsed": true
   },
   "outputs": [],
   "source": [
    "import pickle\n",
    "c={\"host\":\"localhost\",\"user\":\"u1\",\"password\":\"pwd1\"}\n",
    "f=open(\"data1.txt\",'w')\n",
    "pickle.dump(c,f)\n",
    "f.close()"
   ]
  },
  {
   "cell_type": "code",
   "execution_count": 25,
   "metadata": {
    "collapsed": false
   },
   "outputs": [
    {
     "name": "stdout",
     "output_type": "stream",
     "text": [
      "{'host': 'localhost', 'password': 'pwd1', 'user': 'u1'}\n",
      "<type 'dict'>\n"
     ]
    }
   ],
   "source": [
    "f=open('data1.txt')\n",
    "data = pickle.load(f)\n",
    "print data\n",
    "print type(data)"
   ]
  },
  {
   "cell_type": "code",
   "execution_count": 26,
   "metadata": {
    "collapsed": false
   },
   "outputs": [
    {
     "data": {
      "text/plain": [
       "'localhost'"
      ]
     },
     "execution_count": 26,
     "metadata": {},
     "output_type": "execute_result"
    }
   ],
   "source": [
    "data['host']"
   ]
  },
  {
   "cell_type": "code",
   "execution_count": 27,
   "metadata": {
    "collapsed": false
   },
   "outputs": [
    {
     "name": "stdout",
     "output_type": "stream",
     "text": [
      "ython pro\n"
     ]
    }
   ],
   "source": [
    "s=\"python program\"\n",
    "print s[1:10]"
   ]
  },
  {
   "cell_type": "code",
   "execution_count": 28,
   "metadata": {
    "collapsed": false
   },
   "outputs": [
    {
     "name": "stdout",
     "output_type": "stream",
     "text": [
      "yhnpo\n"
     ]
    }
   ],
   "source": [
    "s=\"python program\"\n",
    "print s[1:10:2]"
   ]
  },
  {
   "cell_type": "code",
   "execution_count": 29,
   "metadata": {
    "collapsed": false
   },
   "outputs": [
    {
     "data": {
      "text/plain": [
       "''"
      ]
     },
     "execution_count": 29,
     "metadata": {},
     "output_type": "execute_result"
    }
   ],
   "source": [
    "s[10:1]"
   ]
  },
  {
   "cell_type": "code",
   "execution_count": 30,
   "metadata": {
    "collapsed": false
   },
   "outputs": [
    {
     "data": {
      "text/plain": [
       "'gorp noht'"
      ]
     },
     "execution_count": 30,
     "metadata": {},
     "output_type": "execute_result"
    }
   ],
   "source": [
    "s[10:1:-1]"
   ]
  },
  {
   "cell_type": "code",
   "execution_count": null,
   "metadata": {
    "collapsed": true
   },
   "outputs": [],
   "source": []
  }
 ],
 "metadata": {
  "kernelspec": {
   "display_name": "Python 2",
   "language": "python",
   "name": "python2"
  },
  "language_info": {
   "codemirror_mode": {
    "name": "ipython",
    "version": 2
   },
   "file_extension": ".py",
   "mimetype": "text/x-python",
   "name": "python",
   "nbconvert_exporter": "python",
   "pygments_lexer": "ipython2",
   "version": "2.7.13"
  }
 },
 "nbformat": 4,
 "nbformat_minor": 2
}

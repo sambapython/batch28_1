{
 "cells": [
  {
   "cell_type": "code",
   "execution_count": 3,
   "metadata": {
    "collapsed": false
   },
   "outputs": [
    {
     "name": "stdout",
     "output_type": "stream",
     "text": [
      "('anil', 28, 12423423)\n",
      "('sunil', 28, 12423423)\n"
     ]
    }
   ],
   "source": [
    "class Employee(object):\n",
    "    def __init__(self,name,age, sal):\n",
    "        self.name=name\n",
    "        self.age=age\n",
    "        self.sal=sal\n",
    "    def get_data(self):\n",
    "        return self.name,self.age,self.sal\n",
    "anil = Employee(\"anil\",28,12423423)\n",
    "print anil.get_data()\n",
    "sunil = Employee(\"sunil\",28,12423423)\n",
    "print sunil.get_data()"
   ]
  },
  {
   "cell_type": "code",
   "execution_count": 5,
   "metadata": {
    "collapsed": false
   },
   "outputs": [
    {
     "name": "stdout",
     "output_type": "stream",
     "text": [
      "this is op1 iin c1\n",
      "this is op2 in c2\n"
     ]
    }
   ],
   "source": [
    "class c1:\n",
    "    def op1(self):\n",
    "        print \"this is op1 iin c1\"\n",
    "class c2:\n",
    "    def op2(self):\n",
    "        print \"this is op2 in c2\"\n",
    "class c3(c1,c2):\n",
    "    def operations(self):\n",
    "        self.op1()\n",
    "        self.op2()\n",
    "o3=c3()\n",
    "o3.operations()"
   ]
  },
  {
   "cell_type": "code",
   "execution_count": 6,
   "metadata": {
    "collapsed": false
   },
   "outputs": [
    {
     "name": "stdout",
     "output_type": "stream",
     "text": [
      "this is op1 in c3\n",
      "this is op2 in c2\n"
     ]
    }
   ],
   "source": [
    "class c1:\n",
    "    def op1(self):\n",
    "        print \"this is op1 iin c1\"\n",
    "class c2:\n",
    "    def op2(self):\n",
    "        print \"this is op2 in c2\"\n",
    "class c3(c1,c2):\n",
    "    def operations(self):\n",
    "        self.op1()\n",
    "        self.op2()\n",
    "    def op1(self):\n",
    "        print \"this is op1 in c3\"\n",
    "o3=c3()\n",
    "o3.operations()"
   ]
  },
  {
   "cell_type": "code",
   "execution_count": 7,
   "metadata": {
    "collapsed": false
   },
   "outputs": [
    {
     "ename": "TypeError",
     "evalue": "this constructor takes no arguments",
     "output_type": "error",
     "traceback": [
      "\u001b[0;31m---------------------------------------------------------------------------\u001b[0m",
      "\u001b[0;31mTypeError\u001b[0m                                 Traceback (most recent call last)",
      "\u001b[0;32m<ipython-input-7-03c69aa8c6cb>\u001b[0m in \u001b[0;36m<module>\u001b[0;34m()\u001b[0m\n\u001b[1;32m      2\u001b[0m     \u001b[0;32mdef\u001b[0m \u001b[0mop1\u001b[0m\u001b[0;34m(\u001b[0m\u001b[0mself\u001b[0m\u001b[0;34m)\u001b[0m\u001b[0;34m:\u001b[0m\u001b[0;34m\u001b[0m\u001b[0m\n\u001b[1;32m      3\u001b[0m         \u001b[0;32mprint\u001b[0m \u001b[0;34m\"this is op1\"\u001b[0m\u001b[0;34m\u001b[0m\u001b[0m\n\u001b[0;32m----> 4\u001b[0;31m \u001b[0mo1\u001b[0m\u001b[0;34m=\u001b[0m\u001b[0mc1\u001b[0m\u001b[0;34m(\u001b[0m\u001b[0;36m10\u001b[0m\u001b[0;34m,\u001b[0m\u001b[0;36m20\u001b[0m\u001b[0;34m)\u001b[0m\u001b[0;34m\u001b[0m\u001b[0m\n\u001b[0m",
      "\u001b[0;31mTypeError\u001b[0m: this constructor takes no arguments"
     ]
    }
   ],
   "source": [
    "class c1:\n",
    "    def op1(self):\n",
    "        print \"this is op1\"\n",
    "o1=c1(10,20)"
   ]
  },
  {
   "cell_type": "code",
   "execution_count": 8,
   "metadata": {
    "collapsed": true
   },
   "outputs": [],
   "source": [
    "class c1:\n",
    "    def op1(self):\n",
    "        print \"this is op1\"\n",
    "o1=c1()"
   ]
  },
  {
   "cell_type": "code",
   "execution_count": 9,
   "metadata": {
    "collapsed": true
   },
   "outputs": [],
   "source": [
    "class Employee(object):\n",
    "    def __init__(self,name,age,sal):\n",
    "        self.name=name\n",
    "        self.age=age\n",
    "        self.sal=sal\n",
    "anil = Employee(\"anil\",23,246)"
   ]
  },
  {
   "cell_type": "code",
   "execution_count": 10,
   "metadata": {
    "collapsed": false
   },
   "outputs": [
    {
     "ename": "TypeError",
     "evalue": "__init__() takes exactly 3 arguments (1 given)",
     "output_type": "error",
     "traceback": [
      "\u001b[0;31m---------------------------------------------------------------------------\u001b[0m",
      "\u001b[0;31mTypeError\u001b[0m                                 Traceback (most recent call last)",
      "\u001b[0;32m<ipython-input-10-e970baba83fe>\u001b[0m in \u001b[0;36m<module>\u001b[0;34m()\u001b[0m\n\u001b[1;32m     14\u001b[0m     \u001b[0;32mdef\u001b[0m \u001b[0mop1\u001b[0m\u001b[0;34m(\u001b[0m\u001b[0mself\u001b[0m\u001b[0;34m)\u001b[0m\u001b[0;34m:\u001b[0m\u001b[0;34m\u001b[0m\u001b[0m\n\u001b[1;32m     15\u001b[0m         \u001b[0;32mprint\u001b[0m \u001b[0;34m\"this is op1 in c3\"\u001b[0m\u001b[0;34m\u001b[0m\u001b[0m\n\u001b[0;32m---> 16\u001b[0;31m \u001b[0mo3\u001b[0m\u001b[0;34m=\u001b[0m\u001b[0mc3\u001b[0m\u001b[0;34m(\u001b[0m\u001b[0;34m)\u001b[0m\u001b[0;34m\u001b[0m\u001b[0m\n\u001b[0m\u001b[1;32m     17\u001b[0m \u001b[0mo3\u001b[0m\u001b[0;34m.\u001b[0m\u001b[0moperations\u001b[0m\u001b[0;34m(\u001b[0m\u001b[0;34m)\u001b[0m\u001b[0;34m\u001b[0m\u001b[0m\n",
      "\u001b[0;31mTypeError\u001b[0m: __init__() takes exactly 3 arguments (1 given)"
     ]
    }
   ],
   "source": [
    "class c1:\n",
    "    def op1(self):\n",
    "        print \"this is op1 iin c1\"\n",
    "class c2:\n",
    "    def __init__(self,a,b):\n",
    "        self.a=a\n",
    "        self.b=b\n",
    "    def op2(self):\n",
    "        print \"this is op2 in c2\"\n",
    "class c3(c1,c2):\n",
    "    def operations(self):\n",
    "        self.op1()\n",
    "        self.op2()\n",
    "    def op1(self):\n",
    "        print \"this is op1 in c3\"\n",
    "o3=c3()\n",
    "o3.operations()"
   ]
  },
  {
   "cell_type": "code",
   "execution_count": 11,
   "metadata": {
    "collapsed": false
   },
   "outputs": [
    {
     "name": "stdout",
     "output_type": "stream",
     "text": [
      "this is op1 in c3\n",
      "this is op2 in c2\n"
     ]
    }
   ],
   "source": [
    "class c1:\n",
    "    def op1(self):\n",
    "        print \"this is op1 iin c1\"\n",
    "class c2:\n",
    "    def __init__(self,a,b):\n",
    "        self.a=a\n",
    "        self.b=b\n",
    "    def op2(self):\n",
    "        print \"this is op2 in c2\"\n",
    "class c3(c1,c2):\n",
    "    def operations(self):\n",
    "        self.op1()\n",
    "        self.op2()\n",
    "    def op1(self):\n",
    "        print \"this is op1 in c3\"\n",
    "o3=c3(10,20)\n",
    "o3.operations()"
   ]
  },
  {
   "cell_type": "code",
   "execution_count": 14,
   "metadata": {
    "collapsed": false
   },
   "outputs": [
    {
     "name": "stdout",
     "output_type": "stream",
     "text": [
      "c3 constructor\n"
     ]
    }
   ],
   "source": [
    "class c1:\n",
    "    def op1(self):\n",
    "        print \"this is op1 iin c1\"\n",
    "class c2:\n",
    "    def __init__(self,a,b):\n",
    "        print \"c2 constructor\"\n",
    "        self.a=a\n",
    "        self.b=b\n",
    "    def get_data(self):\n",
    "        print self.a,self.b\n",
    "class c3(c1,c2):\n",
    "    def __init__(self,a,b,c):\n",
    "        print \"c3 constructor\"\n",
    "        self.a=a\n",
    "        self.b=b\n",
    "        self.c=c\n",
    "    def get_data(self):\n",
    "        return self.a,self.b,self.c\n",
    "o3=c3(10,20,30)\n"
   ]
  },
  {
   "cell_type": "code",
   "execution_count": 16,
   "metadata": {
    "collapsed": false
   },
   "outputs": [
    {
     "name": "stdout",
     "output_type": "stream",
     "text": [
      "c3 constructor\n"
     ]
    }
   ],
   "source": [
    "class c1:\n",
    "    def op1(self):\n",
    "        print \"this is op1 iin c1\"\n",
    "class c2:\n",
    "    def __init__(self,a,b):\n",
    "        print \"c2 constructor\"\n",
    "        self.a=a\n",
    "        self.b=b\n",
    "    def get_data(self):\n",
    "        print self.a,self.b\n",
    "class c3(c1,c2):\n",
    "    def __init__(self,a,b,c):\n",
    "        print \"c3 constructor\"\n",
    "        self.a=a\n",
    "        self.b=b\n",
    "        self.c=c\n",
    "    def get_data(self):\n",
    "        return self.a,self.b,self.c\n",
    "o3=c3(10,20,30)\n"
   ]
  },
  {
   "cell_type": "code",
   "execution_count": 17,
   "metadata": {
    "collapsed": false
   },
   "outputs": [
    {
     "name": "stdout",
     "output_type": "stream",
     "text": [
      "c3 constructor\n",
      "c2 constructor\n"
     ]
    }
   ],
   "source": [
    "class c1:\n",
    "    def op1(self):\n",
    "        print \"this is op1 iin c1\"\n",
    "class c2:\n",
    "    def __init__(self,a,b):\n",
    "        print \"c2 constructor\"\n",
    "        self.a=a\n",
    "        self.b=b\n",
    "    def get_data(self):\n",
    "        print self.a,self.b\n",
    "class c3(c1,c2):\n",
    "    def __init__(self,a,b,c):\n",
    "        print \"c3 constructor\"\n",
    "        self.c=c\n",
    "        c2.__init__(self,a,b)\n",
    "    def get_data(self):\n",
    "        return self.a,self.b,self.c\n",
    "o3=c3(10,20,30)\n"
   ]
  },
  {
   "cell_type": "code",
   "execution_count": 19,
   "metadata": {
    "collapsed": false
   },
   "outputs": [
    {
     "name": "stdout",
     "output_type": "stream",
     "text": [
      "c3 constructor\n",
      "c2 constructor\n"
     ]
    }
   ],
   "source": [
    "class c1(object):\n",
    "    def op1(self):\n",
    "        print \"this is op1 iin c1\"\n",
    "class c2(object):\n",
    "    def __init__(self,a,b):\n",
    "        print \"c2 constructor\"\n",
    "        self.a=a\n",
    "        self.b=b\n",
    "    def get_data(self):\n",
    "        print self.a,self.b\n",
    "class c3(c1,c2):\n",
    "    def __init__(self,a,b,c):\n",
    "        print \"c3 constructor\"\n",
    "        self.c=c\n",
    "        #c2.__init__(self,a,b)\n",
    "        super(c3,self).__init__(a,b)\n",
    "    def get_data(self):\n",
    "        return self.a,self.b,self.c\n",
    "o3=c3(10,20,30)\n"
   ]
  },
  {
   "cell_type": "code",
   "execution_count": null,
   "metadata": {
    "collapsed": true
   },
   "outputs": [],
   "source": [
    "class c1(object):\n",
    "    def op1(self,a):\n",
    "        print \"op1 with one arguments\"\n",
    "        self.a=a\n",
    "    def op1(self,a,b,c)\n",
    "    print \"op1 with three arguments\"\n",
    "    self.a=a\n",
    "    self.b=b\n",
    "    self.c=c\n",
    "o1=c1()\n",
    "o1.op1(10)\n",
    "o1.op1(10,20,30)"
   ]
  },
  {
   "cell_type": "code",
   "execution_count": 20,
   "metadata": {
    "collapsed": false
   },
   "outputs": [
    {
     "ename": "TypeError",
     "evalue": "fun1() takes exactly 3 arguments (1 given)",
     "output_type": "error",
     "traceback": [
      "\u001b[0;31m---------------------------------------------------------------------------\u001b[0m",
      "\u001b[0;31mTypeError\u001b[0m                                 Traceback (most recent call last)",
      "\u001b[0;32m<ipython-input-20-58e8b217e3a4>\u001b[0m in \u001b[0;36m<module>\u001b[0;34m()\u001b[0m\n\u001b[1;32m      3\u001b[0m \u001b[0;32mdef\u001b[0m \u001b[0mfun1\u001b[0m\u001b[0;34m(\u001b[0m\u001b[0ma\u001b[0m\u001b[0;34m,\u001b[0m\u001b[0mb\u001b[0m\u001b[0;34m,\u001b[0m\u001b[0mc\u001b[0m\u001b[0;34m)\u001b[0m\u001b[0;34m:\u001b[0m\u001b[0;34m\u001b[0m\u001b[0m\n\u001b[1;32m      4\u001b[0m     \u001b[0;32mprint\u001b[0m \u001b[0ma\u001b[0m\u001b[0;34m,\u001b[0m\u001b[0mb\u001b[0m\u001b[0;34m,\u001b[0m\u001b[0mc\u001b[0m\u001b[0;34m\u001b[0m\u001b[0m\n\u001b[0;32m----> 5\u001b[0;31m \u001b[0mfun1\u001b[0m\u001b[0;34m(\u001b[0m\u001b[0;36m10\u001b[0m\u001b[0;34m)\u001b[0m\u001b[0;34m\u001b[0m\u001b[0m\n\u001b[0m",
      "\u001b[0;31mTypeError\u001b[0m: fun1() takes exactly 3 arguments (1 given)"
     ]
    }
   ],
   "source": [
    "def fun1(a):\n",
    "    print a\n",
    "def fun1(a,b,c):\n",
    "    print a,b,c\n",
    "fun1(10)"
   ]
  },
  {
   "cell_type": "code",
   "execution_count": 24,
   "metadata": {
    "collapsed": false
   },
   "outputs": [
    {
     "ename": "TypeError",
     "evalue": "op1() takes exactly 4 arguments (2 given)",
     "output_type": "error",
     "traceback": [
      "\u001b[0;31m---------------------------------------------------------------------------\u001b[0m",
      "\u001b[0;31mTypeError\u001b[0m                                 Traceback (most recent call last)",
      "\u001b[0;32m<ipython-input-24-33394fac3d01>\u001b[0m in \u001b[0;36m<module>\u001b[0;34m()\u001b[0m\n\u001b[1;32m      9\u001b[0m         \u001b[0mself\u001b[0m\u001b[0;34m.\u001b[0m\u001b[0mc\u001b[0m\u001b[0;34m=\u001b[0m\u001b[0mc\u001b[0m\u001b[0;34m\u001b[0m\u001b[0m\n\u001b[1;32m     10\u001b[0m \u001b[0mo1\u001b[0m\u001b[0;34m=\u001b[0m\u001b[0mc1\u001b[0m\u001b[0;34m(\u001b[0m\u001b[0;34m)\u001b[0m\u001b[0;34m\u001b[0m\u001b[0m\n\u001b[0;32m---> 11\u001b[0;31m \u001b[0mo1\u001b[0m\u001b[0;34m.\u001b[0m\u001b[0mop1\u001b[0m\u001b[0;34m(\u001b[0m\u001b[0;36m10\u001b[0m\u001b[0;34m)\u001b[0m\u001b[0;34m\u001b[0m\u001b[0m\n\u001b[0m\u001b[1;32m     12\u001b[0m \u001b[0mo1\u001b[0m\u001b[0;34m.\u001b[0m\u001b[0mop1\u001b[0m\u001b[0;34m(\u001b[0m\u001b[0;36m10\u001b[0m\u001b[0;34m,\u001b[0m\u001b[0;36m20\u001b[0m\u001b[0;34m,\u001b[0m\u001b[0;36m30\u001b[0m\u001b[0;34m)\u001b[0m\u001b[0;34m\u001b[0m\u001b[0m\n",
      "\u001b[0;31mTypeError\u001b[0m: op1() takes exactly 4 arguments (2 given)"
     ]
    }
   ],
   "source": [
    "class c1(object):\n",
    "    def op1(self,a):\n",
    "        print \"op1 with one arguments\"\n",
    "        self.a=a\n",
    "    def op1(self,a,b,c):\n",
    "        print \"op1 with three arguments\"\n",
    "        self.a=a\n",
    "        self.b=b\n",
    "        self.c=c\n",
    "o1=c1()\n",
    "o1.op1(10)\n",
    "o1.op1(10,20,30)"
   ]
  },
  {
   "cell_type": "code",
   "execution_count": 26,
   "metadata": {
    "collapsed": false
   },
   "outputs": [
    {
     "name": "stdout",
     "output_type": "stream",
     "text": [
      "op1 with one arguments\n",
      "(10,)\n",
      "op1 with one arguments\n",
      "(10, 20, 30)\n"
     ]
    }
   ],
   "source": [
    "class c1(object):\n",
    "    def op1(self,*a):\n",
    "        print \"op1 with one arguments\"\n",
    "        self.a=a\n",
    "        print self.a\n",
    "   \n",
    "o1=c1()\n",
    "o1.op1(10)\n",
    "o1.op1(10,20,30)"
   ]
  },
  {
   "cell_type": "code",
   "execution_count": 27,
   "metadata": {
    "collapsed": false
   },
   "outputs": [
    {
     "name": "stdout",
     "output_type": "stream",
     "text": [
      "30\n",
      "1020\n"
     ]
    }
   ],
   "source": [
    "print 10+20\n",
    "print \"10\"+\"20\""
   ]
  },
  {
   "cell_type": "code",
   "execution_count": 28,
   "metadata": {
    "collapsed": true
   },
   "outputs": [],
   "source": [
    "d1={1:2}\n",
    "d2={4:6}"
   ]
  },
  {
   "cell_type": "code",
   "execution_count": 29,
   "metadata": {
    "collapsed": false
   },
   "outputs": [
    {
     "ename": "TypeError",
     "evalue": "unsupported operand type(s) for +: 'dict' and 'dict'",
     "output_type": "error",
     "traceback": [
      "\u001b[0;31m---------------------------------------------------------------------------\u001b[0m",
      "\u001b[0;31mTypeError\u001b[0m                                 Traceback (most recent call last)",
      "\u001b[0;32m<ipython-input-29-26fa3537880d>\u001b[0m in \u001b[0;36m<module>\u001b[0;34m()\u001b[0m\n\u001b[0;32m----> 1\u001b[0;31m \u001b[0md1\u001b[0m\u001b[0;34m+\u001b[0m\u001b[0md2\u001b[0m\u001b[0;34m\u001b[0m\u001b[0m\n\u001b[0m",
      "\u001b[0;31mTypeError\u001b[0m: unsupported operand type(s) for +: 'dict' and 'dict'"
     ]
    }
   ],
   "source": [
    "d1+d2"
   ]
  },
  {
   "cell_type": "code",
   "execution_count": null,
   "metadata": {
    "collapsed": true
   },
   "outputs": [],
   "source": [
    "class Employee(object):\n",
    "    def __init__(self,name,age, sal):\n",
    "        self.name=name\n",
    "        self.age=age\n",
    "        self.sal=sal\n",
    "    def get_data(self):\n",
    "        return self.name,self.age,self.sal\n",
    "anil = Employee(\"anil\",28,12423423)\n",
    "sunil = Employee(\"sunil\",28,12423423)\n",
    "print anil+suni"
   ]
  },
  {
   "cell_type": "code",
   "execution_count": 30,
   "metadata": {
    "collapsed": true
   },
   "outputs": [],
   "source": [
    "a=10\n",
    "b=20"
   ]
  },
  {
   "cell_type": "code",
   "execution_count": 31,
   "metadata": {
    "collapsed": false
   },
   "outputs": [
    {
     "data": {
      "text/plain": [
       "30"
      ]
     },
     "execution_count": 31,
     "metadata": {},
     "output_type": "execute_result"
    }
   ],
   "source": [
    "a+b"
   ]
  },
  {
   "cell_type": "code",
   "execution_count": 32,
   "metadata": {
    "collapsed": false
   },
   "outputs": [
    {
     "name": "stdout",
     "output_type": "stream",
     "text": [
      "2\n"
     ]
    }
   ],
   "source": [
    "a=True\n",
    "b=True\n",
    "print a+b"
   ]
  },
  {
   "cell_type": "code",
   "execution_count": 34,
   "metadata": {
    "collapsed": false
   },
   "outputs": [
    {
     "ename": "TypeError",
     "evalue": "unsupported operand type(s) for +: 'Employee' and 'Employee'",
     "output_type": "error",
     "traceback": [
      "\u001b[0;31m---------------------------------------------------------------------------\u001b[0m",
      "\u001b[0;31mTypeError\u001b[0m                                 Traceback (most recent call last)",
      "\u001b[0;32m<ipython-input-34-888f114407db>\u001b[0m in \u001b[0;36m<module>\u001b[0;34m()\u001b[0m\n\u001b[1;32m      8\u001b[0m \u001b[0manil\u001b[0m \u001b[0;34m=\u001b[0m \u001b[0mEmployee\u001b[0m\u001b[0;34m(\u001b[0m\u001b[0;34m\"anil\"\u001b[0m\u001b[0;34m,\u001b[0m\u001b[0;36m28\u001b[0m\u001b[0;34m,\u001b[0m\u001b[0;36m12423423\u001b[0m\u001b[0;34m)\u001b[0m\u001b[0;34m\u001b[0m\u001b[0m\n\u001b[1;32m      9\u001b[0m \u001b[0msunil\u001b[0m \u001b[0;34m=\u001b[0m \u001b[0mEmployee\u001b[0m\u001b[0;34m(\u001b[0m\u001b[0;34m\"sunil\"\u001b[0m\u001b[0;34m,\u001b[0m\u001b[0;36m28\u001b[0m\u001b[0;34m,\u001b[0m\u001b[0;36m12423423\u001b[0m\u001b[0;34m)\u001b[0m\u001b[0;34m\u001b[0m\u001b[0m\n\u001b[0;32m---> 10\u001b[0;31m \u001b[0;32mprint\u001b[0m \u001b[0manil\u001b[0m\u001b[0;34m+\u001b[0m\u001b[0msunil\u001b[0m\u001b[0;34m\u001b[0m\u001b[0m\n\u001b[0m",
      "\u001b[0;31mTypeError\u001b[0m: unsupported operand type(s) for +: 'Employee' and 'Employee'"
     ]
    }
   ],
   "source": [
    "class Employee(object):\n",
    "    def __init__(self,name,age, sal):\n",
    "        self.name=name\n",
    "        self.age=age\n",
    "        self.sal=sal\n",
    "    def get_data(self):\n",
    "        return self.name,self.age,self.sal\n",
    "anil = Employee(\"anil\",28,12423423)\n",
    "sunil = Employee(\"sunil\",28,12423423)\n",
    "print anil+sunil"
   ]
  },
  {
   "cell_type": "code",
   "execution_count": 35,
   "metadata": {
    "collapsed": false
   },
   "outputs": [
    {
     "ename": "TypeError",
     "evalue": "unsupported operand type(s) for +: 'dict' and 'dict'",
     "output_type": "error",
     "traceback": [
      "\u001b[0;31m---------------------------------------------------------------------------\u001b[0m",
      "\u001b[0;31mTypeError\u001b[0m                                 Traceback (most recent call last)",
      "\u001b[0;32m<ipython-input-35-0dadd4714ce6>\u001b[0m in \u001b[0;36m<module>\u001b[0;34m()\u001b[0m\n\u001b[1;32m      1\u001b[0m \u001b[0md1\u001b[0m\u001b[0;34m=\u001b[0m\u001b[0;34m{\u001b[0m\u001b[0;36m1\u001b[0m\u001b[0;34m:\u001b[0m\u001b[0;36m2\u001b[0m\u001b[0;34m}\u001b[0m\u001b[0;34m\u001b[0m\u001b[0m\n\u001b[1;32m      2\u001b[0m \u001b[0md2\u001b[0m\u001b[0;34m=\u001b[0m\u001b[0;34m{\u001b[0m\u001b[0;36m4\u001b[0m\u001b[0;34m:\u001b[0m\u001b[0;36m5\u001b[0m\u001b[0;34m}\u001b[0m\u001b[0;34m\u001b[0m\u001b[0m\n\u001b[0;32m----> 3\u001b[0;31m \u001b[0;32mprint\u001b[0m \u001b[0md1\u001b[0m\u001b[0;34m+\u001b[0m\u001b[0md2\u001b[0m\u001b[0;34m\u001b[0m\u001b[0m\n\u001b[0m",
      "\u001b[0;31mTypeError\u001b[0m: unsupported operand type(s) for +: 'dict' and 'dict'"
     ]
    }
   ],
   "source": [
    "d1={1:2}\n",
    "d2={4:5}\n",
    "print d1+d2"
   ]
  },
  {
   "cell_type": "code",
   "execution_count": 36,
   "metadata": {
    "collapsed": false
   },
   "outputs": [
    {
     "name": "stdout",
     "output_type": "stream",
     "text": [
      "some thing\n"
     ]
    }
   ],
   "source": [
    "class Employee(object):\n",
    "    def __init__(self,name,age, sal):\n",
    "        self.name=name\n",
    "        self.age=age\n",
    "        self.sal=sal\n",
    "    def get_data(self):\n",
    "        return self.name,self.age,self.sal\n",
    "    def __add__(self1,self2):\n",
    "        return \"some thing\"\n",
    "anil = Employee(\"anil\",28,12423423)\n",
    "sunil = Employee(\"sunil\",28,12423423)\n",
    "print anil+sunil"
   ]
  },
  {
   "cell_type": "code",
   "execution_count": 38,
   "metadata": {
    "collapsed": false
   },
   "outputs": [
    {
     "name": "stdout",
     "output_type": "stream",
     "text": [
      "('anilsunil', False, 24846846)\n"
     ]
    }
   ],
   "source": [
    "class Employee(object):\n",
    "    def __init__(self,name,age, sal):\n",
    "        self.name=name\n",
    "        self.age=age\n",
    "        self.sal=sal\n",
    "    def get_data(self):\n",
    "        return self.name,self.age,self.sal\n",
    "    def __add__(self1,self2):\n",
    "        return self1.name+self2.name, self1.age>self2.age, self1.sal+self2.sal\n",
    "anil = Employee(\"anil\",28,12423423)\n",
    "sunil = Employee(\"sunil\",28,12423423)\n",
    "print anil+sunil"
   ]
  },
  {
   "cell_type": "code",
   "execution_count": null,
   "metadata": {
    "collapsed": true
   },
   "outputs": [],
   "source": [
    "a=my_dict({1:2,3:4})\n",
    "b=my_dict({1:10,3:20})\n",
    "print a+b\n",
    "print a.keys()\n",
    "print b.keys()"
   ]
  },
  {
   "cell_type": "code",
   "execution_count": 40,
   "metadata": {
    "collapsed": false
   },
   "outputs": [
    {
     "name": "stdout",
     "output_type": "stream",
     "text": [
      "{1: 12, 3: 24}\n"
     ]
    }
   ],
   "source": [
    "class my_dict(object):\n",
    "    def __init__(self,a):\n",
    "        self.a=a\n",
    "    def __add__(self1,self2):\n",
    "        res={}\n",
    "        for i in self1.a:\n",
    "            res.update({i:self1.a.get(i)+self2.a.get(i)})\n",
    "        return res\n",
    "a=my_dict({1:2,3:4})\n",
    "b=my_dict({1:10,3:20})\n",
    "print a+b      \n",
    "        "
   ]
  },
  {
   "cell_type": "code",
   "execution_count": 41,
   "metadata": {
    "collapsed": false
   },
   "outputs": [
    {
     "ename": "AttributeError",
     "evalue": "'my_dict' object has no attribute 'keys'",
     "output_type": "error",
     "traceback": [
      "\u001b[0;31m---------------------------------------------------------------------------\u001b[0m",
      "\u001b[0;31mAttributeError\u001b[0m                            Traceback (most recent call last)",
      "\u001b[0;32m<ipython-input-41-6b479f3565bc>\u001b[0m in \u001b[0;36m<module>\u001b[0;34m()\u001b[0m\n\u001b[0;32m----> 1\u001b[0;31m \u001b[0ma\u001b[0m\u001b[0;34m.\u001b[0m\u001b[0mkeys\u001b[0m\u001b[0;34m(\u001b[0m\u001b[0;34m)\u001b[0m\u001b[0;34m\u001b[0m\u001b[0m\n\u001b[0m",
      "\u001b[0;31mAttributeError\u001b[0m: 'my_dict' object has no attribute 'keys'"
     ]
    }
   ],
   "source": [
    "a.keys()"
   ]
  },
  {
   "cell_type": "code",
   "execution_count": 42,
   "metadata": {
    "collapsed": false
   },
   "outputs": [
    {
     "name": "stdout",
     "output_type": "stream",
     "text": [
      "{1: 12, 3: 24}\n",
      "[]\n"
     ]
    }
   ],
   "source": [
    "class my_dict(dict):\n",
    "    def __init__(self,a):\n",
    "        self.a=a\n",
    "    def __add__(self1,self2):\n",
    "        res={}\n",
    "        for i in self1.a:\n",
    "            res.update({i:self1.a.get(i)+self2.a.get(i)})\n",
    "        return res\n",
    "a=my_dict({1:2,3:4})\n",
    "b=my_dict({1:10,3:20})\n",
    "print a+b      \n",
    "print a.keys()   "
   ]
  },
  {
   "cell_type": "code",
   "execution_count": 45,
   "metadata": {
    "collapsed": false
   },
   "outputs": [
    {
     "name": "stdout",
     "output_type": "stream",
     "text": [
      "{1: 12, 3: 24}\n",
      "[]\n"
     ]
    }
   ],
   "source": [
    "class my_dict(dict):\n",
    "    def __init__(self,a):\n",
    "        self.a=a\n",
    "        dict.__init__(a)\n",
    "    def __add__(self1,self2):\n",
    "        res={}\n",
    "        for i in self1.a:\n",
    "            res.update({i:self1.a.get(i)+self2.a.get(i)})\n",
    "        return res\n",
    "a1=my_dict({1:2,3:4})\n",
    "b1=my_dict({1:10,3:20})\n",
    "print a1+b1     \n",
    "print a1.keys()   "
   ]
  },
  {
   "cell_type": "code",
   "execution_count": 46,
   "metadata": {
    "collapsed": false
   },
   "outputs": [
    {
     "name": "stdout",
     "output_type": "stream",
     "text": [
      "{1: 12, 3: 24}\n",
      "[1, 3]\n"
     ]
    }
   ],
   "source": [
    "class my_dict(dict):\n",
    "    def __add__(self1,self2):\n",
    "        res={}\n",
    "        for i in self1:\n",
    "            res.update({i:self1.get(i)+self2.get(i)})\n",
    "        return res\n",
    "a1=my_dict({1:2,3:4})\n",
    "b1=my_dict({1:10,3:20})\n",
    "print a1+b1     \n",
    "print a1.keys()   "
   ]
  },
  {
   "cell_type": "code",
   "execution_count": 47,
   "metadata": {
    "collapsed": false
   },
   "outputs": [
    {
     "name": "stdout",
     "output_type": "stream",
     "text": [
      "some thing\n"
     ]
    }
   ],
   "source": [
    "class Employee(object):\n",
    "    def __init__(self,name,age, sal):\n",
    "        self.name=name\n",
    "        self.age=age\n",
    "        self.sal=sal\n",
    "    def get_data(self):\n",
    "        return self.name,self.age,self.sal\n",
    "    def __add__(self1,self2):\n",
    "        return \"some thing\"\n",
    "anil = Employee(\"anil\",28,12423423)\n",
    "sunil = Employee(\"sunil\",28,12423423)\n",
    "print anil+sunil"
   ]
  },
  {
   "cell_type": "code",
   "execution_count": 48,
   "metadata": {
    "collapsed": false
   },
   "outputs": [
    {
     "ename": "TypeError",
     "evalue": "'Employee' object is not iterable",
     "output_type": "error",
     "traceback": [
      "\u001b[0;31m---------------------------------------------------------------------------\u001b[0m",
      "\u001b[0;31mTypeError\u001b[0m                                 Traceback (most recent call last)",
      "\u001b[0;32m<ipython-input-48-a66b8de36a9b>\u001b[0m in \u001b[0;36m<module>\u001b[0;34m()\u001b[0m\n\u001b[0;32m----> 1\u001b[0;31m \u001b[0;32mfor\u001b[0m \u001b[0mi\u001b[0m \u001b[0;32min\u001b[0m \u001b[0manil\u001b[0m\u001b[0;34m:\u001b[0m\u001b[0;34m\u001b[0m\u001b[0m\n\u001b[0m\u001b[1;32m      2\u001b[0m     \u001b[0;32mprint\u001b[0m \u001b[0mi\u001b[0m\u001b[0;34m\u001b[0m\u001b[0m\n",
      "\u001b[0;31mTypeError\u001b[0m: 'Employee' object is not iterable"
     ]
    }
   ],
   "source": [
    "for i in anil:\n",
    "    print i"
   ]
  },
  {
   "cell_type": "code",
   "execution_count": 49,
   "metadata": {
    "collapsed": false
   },
   "outputs": [
    {
     "ename": "TypeError",
     "evalue": "'int' object is not iterable",
     "output_type": "error",
     "traceback": [
      "\u001b[0;31m---------------------------------------------------------------------------\u001b[0m",
      "\u001b[0;31mTypeError\u001b[0m                                 Traceback (most recent call last)",
      "\u001b[0;32m<ipython-input-49-fadf14133441>\u001b[0m in \u001b[0;36m<module>\u001b[0;34m()\u001b[0m\n\u001b[0;32m----> 1\u001b[0;31m \u001b[0;32mfor\u001b[0m \u001b[0mi\u001b[0m \u001b[0;32min\u001b[0m \u001b[0;36m100\u001b[0m\u001b[0;34m:\u001b[0m\u001b[0;34m\u001b[0m\u001b[0m\n\u001b[0m\u001b[1;32m      2\u001b[0m     \u001b[0;32mprint\u001b[0m \u001b[0mi\u001b[0m\u001b[0;34m\u001b[0m\u001b[0m\n",
      "\u001b[0;31mTypeError\u001b[0m: 'int' object is not iterable"
     ]
    }
   ],
   "source": [
    "for i in 100:\n",
    "    print i"
   ]
  },
  {
   "cell_type": "code",
   "execution_count": 50,
   "metadata": {
    "collapsed": false
   },
   "outputs": [
    {
     "name": "stdout",
     "output_type": "stream",
     "text": [
      "some thing\n"
     ]
    },
    {
     "ename": "TypeError",
     "evalue": "iter() returned non-iterator of type 'str'",
     "output_type": "error",
     "traceback": [
      "\u001b[0;31m---------------------------------------------------------------------------\u001b[0m",
      "\u001b[0;31mTypeError\u001b[0m                                 Traceback (most recent call last)",
      "\u001b[0;32m<ipython-input-50-2abd3f09ba6d>\u001b[0m in \u001b[0;36m<module>\u001b[0;34m()\u001b[0m\n\u001b[1;32m     13\u001b[0m \u001b[0msunil\u001b[0m \u001b[0;34m=\u001b[0m \u001b[0mEmployee\u001b[0m\u001b[0;34m(\u001b[0m\u001b[0;34m\"sunil\"\u001b[0m\u001b[0;34m,\u001b[0m\u001b[0;36m28\u001b[0m\u001b[0;34m,\u001b[0m\u001b[0;36m12423423\u001b[0m\u001b[0;34m)\u001b[0m\u001b[0;34m\u001b[0m\u001b[0m\n\u001b[1;32m     14\u001b[0m \u001b[0;32mprint\u001b[0m \u001b[0manil\u001b[0m\u001b[0;34m+\u001b[0m\u001b[0msunil\u001b[0m\u001b[0;34m\u001b[0m\u001b[0m\n\u001b[0;32m---> 15\u001b[0;31m \u001b[0;32mfor\u001b[0m \u001b[0mi\u001b[0m \u001b[0;32min\u001b[0m \u001b[0manil\u001b[0m\u001b[0;34m:\u001b[0m\u001b[0;34m\u001b[0m\u001b[0m\n\u001b[0m\u001b[1;32m     16\u001b[0m     \u001b[0;32mprint\u001b[0m \u001b[0mi\u001b[0m\u001b[0;34m\u001b[0m\u001b[0m\n",
      "\u001b[0;31mTypeError\u001b[0m: iter() returned non-iterator of type 'str'"
     ]
    }
   ],
   "source": [
    "class Employee(object):\n",
    "    def __init__(self,name,age, sal):\n",
    "        self.name=name\n",
    "        self.age=age\n",
    "        self.sal=sal\n",
    "    def get_data(self):\n",
    "        return self.name,self.age,self.sal\n",
    "    def __add__(self1,self2):\n",
    "        return \"some thing\"\n",
    "    def __iter__(self):\n",
    "        return \"weert\"\n",
    "anil = Employee(\"anil\",28,12423423)\n",
    "sunil = Employee(\"sunil\",28,12423423)\n",
    "print anil+sunil\n",
    "for i in anil:\n",
    "    print i"
   ]
  },
  {
   "cell_type": "code",
   "execution_count": 51,
   "metadata": {
    "collapsed": false
   },
   "outputs": [
    {
     "name": "stdout",
     "output_type": "stream",
     "text": [
      "some thing\n",
      "0\n",
      "1\n",
      "2\n"
     ]
    }
   ],
   "source": [
    "class Employee(object):\n",
    "    def __init__(self,name,age, sal):\n",
    "        self.name=name\n",
    "        self.age=age\n",
    "        self.sal=sal\n",
    "    def get_data(self):\n",
    "        return self.name,self.age,self.sal\n",
    "    def __add__(self1,self2):\n",
    "        return \"some thing\"\n",
    "    def __iter__(self):\n",
    "        for i in range(3):\n",
    "            yield i\n",
    "anil = Employee(\"anil\",28,12423423)\n",
    "sunil = Employee(\"sunil\",28,12423423)\n",
    "print anil+sunil\n",
    "for i in anil:\n",
    "    print i"
   ]
  },
  {
   "cell_type": "code",
   "execution_count": 52,
   "metadata": {
    "collapsed": false
   },
   "outputs": [
    {
     "name": "stdout",
     "output_type": "stream",
     "text": [
      "some thing\n",
      "{'age': 28, 'name': 'anil', 'sal': 12423423}\n",
      "0\n",
      "1\n",
      "2\n"
     ]
    }
   ],
   "source": [
    "class Employee(object):\n",
    "    def __init__(self,name,age, sal):\n",
    "        self.name=name\n",
    "        self.age=age\n",
    "        self.sal=sal\n",
    "    def get_data(self):\n",
    "        return self.name,self.age,self.sal\n",
    "    def __add__(self1,self2):\n",
    "        return \"some thing\"\n",
    "    def __iter__(self):\n",
    "        print self.__dict__\n",
    "        for i in range(3):\n",
    "            yield i\n",
    "anil = Employee(\"anil\",28,12423423)\n",
    "sunil = Employee(\"sunil\",28,12423423)\n",
    "print anil+sunil\n",
    "for i in anil:\n",
    "    print i"
   ]
  },
  {
   "cell_type": "code",
   "execution_count": 53,
   "metadata": {
    "collapsed": false
   },
   "outputs": [
    {
     "name": "stdout",
     "output_type": "stream",
     "text": [
      "some thing\n",
      "{'age': 28, 'name': 'anil', 'sal': 12423423}\n",
      "('age', 28)\n",
      "('name', 'anil')\n",
      "('sal', 12423423)\n"
     ]
    }
   ],
   "source": [
    "class Employee(object):\n",
    "    def __init__(self,name,age, sal):\n",
    "        self.name=name\n",
    "        self.age=age\n",
    "        self.sal=sal\n",
    "    def get_data(self):\n",
    "        return self.name,self.age,self.sal\n",
    "    def __add__(self1,self2):\n",
    "        return \"some thing\"\n",
    "    def __iter__(self):\n",
    "        print self.__dict__\n",
    "        for i in self.__dict__.items():\n",
    "            yield i\n",
    "anil = Employee(\"anil\",28,12423423)\n",
    "sunil = Employee(\"sunil\",28,12423423)\n",
    "print anil+sunil\n",
    "for i in anil:\n",
    "    print i"
   ]
  },
  {
   "cell_type": "code",
   "execution_count": 54,
   "metadata": {
    "collapsed": true
   },
   "outputs": [],
   "source": [
    "# singleton"
   ]
  },
  {
   "cell_type": "code",
   "execution_count": null,
   "metadata": {
    "collapsed": true
   },
   "outputs": [],
   "source": [
    "class Employee(object):\n",
    "    def __init__(self,name,age, sal):\n",
    "        self.name=name\n",
    "        self.age=age\n",
    "        self.sal=sal\n",
    "    def get_data(self):\n",
    "        return self.name,self.age,self.sal\n",
    "    def __add__(self1,self2):\n",
    "        return \"some thing\"\n",
    "    def __iter__(self):\n",
    "        print self.__dict__\n",
    "        for i in self.__dict__.items():\n",
    "            yield i\n",
    "anil = Employee(\"anil\",28,12423423)\n",
    "sunil = Employee(\"sunil\",28,12423423)\n",
    "print anil.get_data()\n",
    "print anil+sunil\n",
    "for i in anil:\n",
    "    print i"
   ]
  },
  {
   "cell_type": "code",
   "execution_count": 55,
   "metadata": {
    "collapsed": false
   },
   "outputs": [
    {
     "ename": "NameError",
     "evalue": "name 'a123' is not defined",
     "output_type": "error",
     "traceback": [
      "\u001b[0;31m---------------------------------------------------------------------------\u001b[0m",
      "\u001b[0;31mNameError\u001b[0m                                 Traceback (most recent call last)",
      "\u001b[0;32m<ipython-input-55-72a8750c7b33>\u001b[0m in \u001b[0;36m<module>\u001b[0;34m()\u001b[0m\n\u001b[0;32m----> 1\u001b[0;31m \u001b[0;32mprint\u001b[0m \u001b[0ma123\u001b[0m\u001b[0;34m+\u001b[0m\u001b[0;36m20\u001b[0m\u001b[0;34m\u001b[0m\u001b[0m\n\u001b[0m\u001b[1;32m      2\u001b[0m \u001b[0ma123\u001b[0m\u001b[0;34m=\u001b[0m\u001b[0;36m20\u001b[0m\u001b[0;34m\u001b[0m\u001b[0m\n",
      "\u001b[0;31mNameError\u001b[0m: name 'a123' is not defined"
     ]
    }
   ],
   "source": [
    "print a123+20\n",
    "a123=20"
   ]
  },
  {
   "cell_type": "code",
   "execution_count": 57,
   "metadata": {
    "collapsed": false
   },
   "outputs": [
    {
     "ename": "AttributeError",
     "evalue": "'NoneType' object has no attribute 'get_data'",
     "output_type": "error",
     "traceback": [
      "\u001b[0;31m---------------------------------------------------------------------------\u001b[0m",
      "\u001b[0;31mAttributeError\u001b[0m                            Traceback (most recent call last)",
      "\u001b[0;32m<ipython-input-57-4cc30b0db5a4>\u001b[0m in \u001b[0;36m<module>\u001b[0;34m()\u001b[0m\n\u001b[1;32m     16\u001b[0m \u001b[0manil\u001b[0m \u001b[0;34m=\u001b[0m \u001b[0mEmployee\u001b[0m\u001b[0;34m(\u001b[0m\u001b[0;34m\"anil\"\u001b[0m\u001b[0;34m,\u001b[0m\u001b[0;36m28\u001b[0m\u001b[0;34m,\u001b[0m\u001b[0;36m12423423\u001b[0m\u001b[0;34m)\u001b[0m\u001b[0;34m\u001b[0m\u001b[0m\n\u001b[1;32m     17\u001b[0m \u001b[0msunil\u001b[0m \u001b[0;34m=\u001b[0m \u001b[0mEmployee\u001b[0m\u001b[0;34m(\u001b[0m\u001b[0;34m\"sunil\"\u001b[0m\u001b[0;34m,\u001b[0m\u001b[0;36m28\u001b[0m\u001b[0;34m,\u001b[0m\u001b[0;36m12423423\u001b[0m\u001b[0;34m)\u001b[0m\u001b[0;34m\u001b[0m\u001b[0m\n\u001b[0;32m---> 18\u001b[0;31m \u001b[0;32mprint\u001b[0m \u001b[0manil\u001b[0m\u001b[0;34m.\u001b[0m\u001b[0mget_data\u001b[0m\u001b[0;34m(\u001b[0m\u001b[0;34m)\u001b[0m\u001b[0;34m\u001b[0m\u001b[0m\n\u001b[0m\u001b[1;32m     19\u001b[0m \u001b[0;32mprint\u001b[0m \u001b[0manil\u001b[0m\u001b[0;34m+\u001b[0m\u001b[0msunil\u001b[0m\u001b[0;34m\u001b[0m\u001b[0m\n\u001b[1;32m     20\u001b[0m \u001b[0;32mfor\u001b[0m \u001b[0mi\u001b[0m \u001b[0;32min\u001b[0m \u001b[0manil\u001b[0m\u001b[0;34m:\u001b[0m\u001b[0;34m\u001b[0m\u001b[0m\n",
      "\u001b[0;31mAttributeError\u001b[0m: 'NoneType' object has no attribute 'get_data'"
     ]
    }
   ],
   "source": [
    "class Employee(object):\n",
    "    def __new__(self,name,age, sal):\n",
    "        return None\n",
    "    def __init__(self,name,age, sal):\n",
    "        self.name=name\n",
    "        self.age=age\n",
    "        self.sal=sal\n",
    "    def get_data(self):\n",
    "        return self.name,self.age,self.sal\n",
    "    def __add__(self1,self2):\n",
    "        return \"some thing\"\n",
    "    def __iter__(self):\n",
    "        print self.__dict__\n",
    "        for i in self.__dict__.items():\n",
    "            yield i\n",
    "anil = Employee(\"anil\",28,12423423)\n",
    "sunil = Employee(\"sunil\",28,12423423)\n",
    "print anil.get_data()\n",
    "print anil+sunil\n",
    "for i in anil:\n",
    "    print i"
   ]
  },
  {
   "cell_type": "code",
   "execution_count": 60,
   "metadata": {
    "collapsed": false
   },
   "outputs": [
    {
     "name": "stdout",
     "output_type": "stream",
     "text": [
      "('anil', 28, 12423423)\n",
      "some thing\n",
      "{'age': 28, 'name': 'anil', 'sal': 12423423}\n",
      "('age', 28)\n",
      "('name', 'anil')\n",
      "('sal', 12423423)\n"
     ]
    }
   ],
   "source": [
    "class Employee(object):\n",
    "    def __new__(self,name,age, sal):\n",
    "        return super(Employee,self).__new__(self)\n",
    "    def __init__(self,name,age, sal):\n",
    "        self.name=name\n",
    "        self.age=age\n",
    "        self.sal=sal\n",
    "    def get_data(self):\n",
    "        return self.name,self.age,self.sal\n",
    "    def __add__(self1,self2):\n",
    "        return \"some thing\"\n",
    "    def __iter__(self):\n",
    "        print self.__dict__\n",
    "        for i in self.__dict__.items():\n",
    "            yield i\n",
    "anil = Employee(\"anil\",28,12423423)\n",
    "sunil = Employee(\"sunil\",28,12423423)\n",
    "print anil.get_data()\n",
    "print anil+sunil\n",
    "for i in anil:\n",
    "    print i"
   ]
  },
  {
   "cell_type": "code",
   "execution_count": 66,
   "metadata": {
    "collapsed": true
   },
   "outputs": [],
   "source": [
    "class Employee(object):\n",
    "    obj=None\n",
    "    def __new__(cls,name,age, sal):\n",
    "        if not cls.obj:\n",
    "            cls.obj=super(Employee,cls).__new__(cls)\n",
    "            return cls.obj\n",
    "        else:\n",
    "            raise Exception(\"The istance ia already created for this class\")\n",
    "            \n",
    "    def __init__(self,name,age, sal):\n",
    "        self.name=name\n",
    "        self.age=age\n",
    "        self.sal=sal\n",
    "    def get_data(self):\n",
    "        return self.name,self.age,self.sal\n",
    "    def __add__(self1,self2):\n",
    "        return \"some thing\"\n",
    "    def __iter__(self):\n",
    "        print self.__dict__\n",
    "        for i in self.__dict__.items():\n",
    "            yield i\n",
    "anil = Employee(\"anil\",28,12423423)"
   ]
  },
  {
   "cell_type": "code",
   "execution_count": 67,
   "metadata": {
    "collapsed": false
   },
   "outputs": [
    {
     "ename": "Exception",
     "evalue": "The istance ia already created for this class",
     "output_type": "error",
     "traceback": [
      "\u001b[0;31m---------------------------------------------------------------------------\u001b[0m",
      "\u001b[0;31mException\u001b[0m                                 Traceback (most recent call last)",
      "\u001b[0;32m<ipython-input-67-9f987b404d74>\u001b[0m in \u001b[0;36m<module>\u001b[0;34m()\u001b[0m\n\u001b[0;32m----> 1\u001b[0;31m \u001b[0msunil\u001b[0m \u001b[0;34m=\u001b[0m \u001b[0mEmployee\u001b[0m\u001b[0;34m(\u001b[0m\u001b[0;34m\"sunil\"\u001b[0m\u001b[0;34m,\u001b[0m\u001b[0;36m28\u001b[0m\u001b[0;34m,\u001b[0m\u001b[0;36m12423423\u001b[0m\u001b[0;34m)\u001b[0m\u001b[0;34m\u001b[0m\u001b[0m\n\u001b[0m",
      "\u001b[0;32m<ipython-input-66-c5a5539870ee>\u001b[0m in \u001b[0;36m__new__\u001b[0;34m(cls, name, age, sal)\u001b[0m\n\u001b[1;32m      6\u001b[0m             \u001b[0;32mreturn\u001b[0m \u001b[0mcls\u001b[0m\u001b[0;34m.\u001b[0m\u001b[0mobj\u001b[0m\u001b[0;34m\u001b[0m\u001b[0m\n\u001b[1;32m      7\u001b[0m         \u001b[0;32melse\u001b[0m\u001b[0;34m:\u001b[0m\u001b[0;34m\u001b[0m\u001b[0m\n\u001b[0;32m----> 8\u001b[0;31m             \u001b[0;32mraise\u001b[0m \u001b[0mException\u001b[0m\u001b[0;34m(\u001b[0m\u001b[0;34m\"The istance ia already created for this class\"\u001b[0m\u001b[0;34m)\u001b[0m\u001b[0;34m\u001b[0m\u001b[0m\n\u001b[0m\u001b[1;32m      9\u001b[0m \u001b[0;34m\u001b[0m\u001b[0m\n\u001b[1;32m     10\u001b[0m     \u001b[0;32mdef\u001b[0m \u001b[0m__init__\u001b[0m\u001b[0;34m(\u001b[0m\u001b[0mself\u001b[0m\u001b[0;34m,\u001b[0m\u001b[0mname\u001b[0m\u001b[0;34m,\u001b[0m\u001b[0mage\u001b[0m\u001b[0;34m,\u001b[0m \u001b[0msal\u001b[0m\u001b[0;34m)\u001b[0m\u001b[0;34m:\u001b[0m\u001b[0;34m\u001b[0m\u001b[0m\n",
      "\u001b[0;31mException\u001b[0m: The istance ia already created for this class"
     ]
    }
   ],
   "source": [
    "sunil = Employee(\"sunil\",28,12423423)\n"
   ]
  },
  {
   "cell_type": "code",
   "execution_count": 68,
   "metadata": {
    "collapsed": false
   },
   "outputs": [
    {
     "name": "stdout",
     "output_type": "stream",
     "text": [
      "None\n",
      "34\n",
      "None\n"
     ]
    }
   ],
   "source": [
    "class c1:\n",
    "    obj=None\n",
    "    def check_obj(self):\n",
    "        print self.obj\n",
    "\n",
    "o1=c1()\n",
    "o1.check_obj()\n",
    "o1.obj=34\n",
    "o1.check_obj()\n",
    "o2=c1()\n",
    "o2.check_obj()"
   ]
  },
  {
   "cell_type": "code",
   "execution_count": 69,
   "metadata": {
    "collapsed": false
   },
   "outputs": [
    {
     "name": "stdout",
     "output_type": "stream",
     "text": [
      "__main__.c1\n"
     ]
    }
   ],
   "source": [
    "print c1"
   ]
  },
  {
   "cell_type": "code",
   "execution_count": 70,
   "metadata": {
    "collapsed": false
   },
   "outputs": [
    {
     "name": "stdout",
     "output_type": "stream",
     "text": [
      "<class '__main__.Employee'>\n"
     ]
    }
   ],
   "source": [
    "print Employee"
   ]
  },
  {
   "cell_type": "code",
   "execution_count": 7,
   "metadata": {
    "collapsed": false
   },
   "outputs": [
    {
     "name": "stdout",
     "output_type": "stream",
     "text": [
      "o1= <__main__.c1 instance at 0x7f802c666248>\n",
      "c1= __main__.c1\n",
      "self= <__main__.c1 instance at 0x7f802c666248>\n",
      "20\n",
      "100\n",
      "20\n",
      "cls= __main__.c1\n",
      "20\n"
     ]
    }
   ],
   "source": [
    "class c1:\n",
    "    b=20\n",
    "    def __init__(self,a):\n",
    "        self.a=a\n",
    "    def inst1(self):\n",
    "        print \"self=\",self\n",
    "        print self.b\n",
    "        print self.a\n",
    "    @classmethod\n",
    "    def clm(cls):\n",
    "        print cls.b\n",
    "        print \"cls=\",cls\n",
    "    @staticmethod\n",
    "    def stat(a123):\n",
    "        print a123\n",
    "        print \"this is static method\"\n",
    "    \n",
    "o1=c1(100)\n",
    "print \"o1=\",o1\n",
    "print \"c1=\",c1\n",
    "o1.inst1()\n",
    "o1.clm()\n",
    "print c1.b"
   ]
  },
  {
   "cell_type": "code",
   "execution_count": 8,
   "metadata": {
    "collapsed": false
   },
   "outputs": [
    {
     "name": "stdout",
     "output_type": "stream",
     "text": [
      "o1= <__main__.c1 instance at 0x7f802c666cf8>\n",
      "c1= __main__.c1\n",
      "self= <__main__.c1 instance at 0x7f802c666cf8>\n",
      "20\n",
      "100\n",
      "20\n",
      "cls= __main__.c1\n"
     ]
    },
    {
     "ename": "AttributeError",
     "evalue": "class c1 has no attribute 'a'",
     "output_type": "error",
     "traceback": [
      "\u001b[0;31m---------------------------------------------------------------------------\u001b[0m",
      "\u001b[0;31mAttributeError\u001b[0m                            Traceback (most recent call last)",
      "\u001b[0;32m<ipython-input-8-5f02e5489b2c>\u001b[0m in \u001b[0;36m<module>\u001b[0;34m()\u001b[0m\n\u001b[1;32m     21\u001b[0m \u001b[0;32mprint\u001b[0m \u001b[0;34m\"c1=\"\u001b[0m\u001b[0;34m,\u001b[0m\u001b[0mc1\u001b[0m\u001b[0;34m\u001b[0m\u001b[0m\n\u001b[1;32m     22\u001b[0m \u001b[0mo1\u001b[0m\u001b[0;34m.\u001b[0m\u001b[0minst1\u001b[0m\u001b[0;34m(\u001b[0m\u001b[0;34m)\u001b[0m\u001b[0;34m\u001b[0m\u001b[0m\n\u001b[0;32m---> 23\u001b[0;31m \u001b[0mo1\u001b[0m\u001b[0;34m.\u001b[0m\u001b[0mclm\u001b[0m\u001b[0;34m(\u001b[0m\u001b[0;34m)\u001b[0m\u001b[0;34m\u001b[0m\u001b[0m\n\u001b[0m\u001b[1;32m     24\u001b[0m \u001b[0;32mprint\u001b[0m \u001b[0mc1\u001b[0m\u001b[0;34m.\u001b[0m\u001b[0mb\u001b[0m\u001b[0;34m\u001b[0m\u001b[0m\n",
      "\u001b[0;32m<ipython-input-8-5f02e5489b2c>\u001b[0m in \u001b[0;36mclm\u001b[0;34m(cls)\u001b[0m\n\u001b[1;32m     11\u001b[0m         \u001b[0;32mprint\u001b[0m \u001b[0mcls\u001b[0m\u001b[0;34m.\u001b[0m\u001b[0mb\u001b[0m\u001b[0;34m\u001b[0m\u001b[0m\n\u001b[1;32m     12\u001b[0m         \u001b[0;32mprint\u001b[0m \u001b[0;34m\"cls=\"\u001b[0m\u001b[0;34m,\u001b[0m\u001b[0mcls\u001b[0m\u001b[0;34m\u001b[0m\u001b[0m\n\u001b[0;32m---> 13\u001b[0;31m         \u001b[0;32mprint\u001b[0m \u001b[0mcls\u001b[0m\u001b[0;34m.\u001b[0m\u001b[0ma\u001b[0m\u001b[0;34m\u001b[0m\u001b[0m\n\u001b[0m\u001b[1;32m     14\u001b[0m     \u001b[0;34m@\u001b[0m\u001b[0mstaticmethod\u001b[0m\u001b[0;34m\u001b[0m\u001b[0m\n\u001b[1;32m     15\u001b[0m     \u001b[0;32mdef\u001b[0m \u001b[0mstat\u001b[0m\u001b[0;34m(\u001b[0m\u001b[0ma123\u001b[0m\u001b[0;34m)\u001b[0m\u001b[0;34m:\u001b[0m\u001b[0;34m\u001b[0m\u001b[0m\n",
      "\u001b[0;31mAttributeError\u001b[0m: class c1 has no attribute 'a'"
     ]
    }
   ],
   "source": [
    "class c1:\n",
    "    b=20\n",
    "    def __init__(self,a):\n",
    "        self.a=a\n",
    "    def inst1(self):\n",
    "        print \"self=\",self\n",
    "        print self.b\n",
    "        print self.a\n",
    "    @classmethod\n",
    "    def clm(cls):\n",
    "        print cls.b\n",
    "        print \"cls=\",cls\n",
    "        print cls.a\n",
    "    @staticmethod\n",
    "    def stat(a123):\n",
    "        print a123\n",
    "        print \"this is static method\"\n",
    "    \n",
    "o1=c1(100)\n",
    "print \"o1=\",o1\n",
    "print \"c1=\",c1\n",
    "o1.inst1()\n",
    "o1.clm()\n",
    "print c1.b"
   ]
  },
  {
   "cell_type": "code",
   "execution_count": 9,
   "metadata": {
    "collapsed": false
   },
   "outputs": [
    {
     "name": "stdout",
     "output_type": "stream",
     "text": [
      "o1= <__main__.c1 instance at 0x7f802c666e60>\n",
      "c1= __main__.c1\n",
      "self= <__main__.c1 instance at 0x7f802c666e60>\n",
      "20\n",
      "100\n",
      "20\n",
      "cls= __main__.c1\n",
      "20\n",
      "20\n",
      "cls= __main__.c1\n",
      "None\n"
     ]
    }
   ],
   "source": [
    "class c1:\n",
    "    b=20\n",
    "    def __init__(self,a):\n",
    "        self.a=a\n",
    "    def inst1(self):\n",
    "        print \"self=\",self\n",
    "        print self.b\n",
    "        print self.a\n",
    "    @classmethod\n",
    "    def clm(cls):\n",
    "        print cls.b\n",
    "        print \"cls=\",cls\n",
    "        #print cls.a\n",
    "    @staticmethod\n",
    "    def stat(a123):\n",
    "        print a123\n",
    "        print \"this is static method\"\n",
    "    \n",
    "o1=c1(100)\n",
    "print \"o1=\",o1\n",
    "print \"c1=\",c1\n",
    "o1.inst1()\n",
    "o1.clm()\n",
    "print c1.b\n",
    "print c1.clm()"
   ]
  },
  {
   "cell_type": "code",
   "execution_count": 13,
   "metadata": {
    "collapsed": false
   },
   "outputs": [
    {
     "name": "stdout",
     "output_type": "stream",
     "text": [
      "o1= <__main__.c1 instance at 0x7f802c675710>\n",
      "c1= __main__.c1\n",
      "self= <__main__.c1 instance at 0x7f802c675710>\n",
      "20\n",
      "100\n",
      "20\n",
      "cls= __main__.c1\n",
      "20\n",
      "20\n",
      "cls= __main__.c1\n",
      "None\n"
     ]
    },
    {
     "ename": "TypeError",
     "evalue": "stat() takes exactly 1 argument (0 given)",
     "output_type": "error",
     "traceback": [
      "\u001b[0;31m---------------------------------------------------------------------------\u001b[0m",
      "\u001b[0;31mTypeError\u001b[0m                                 Traceback (most recent call last)",
      "\u001b[0;32m<ipython-input-13-2afeb2bc6e5a>\u001b[0m in \u001b[0;36m<module>\u001b[0;34m()\u001b[0m\n\u001b[1;32m     24\u001b[0m \u001b[0;32mprint\u001b[0m \u001b[0mc1\u001b[0m\u001b[0;34m.\u001b[0m\u001b[0mb\u001b[0m\u001b[0;34m\u001b[0m\u001b[0m\n\u001b[1;32m     25\u001b[0m \u001b[0;32mprint\u001b[0m \u001b[0mc1\u001b[0m\u001b[0;34m.\u001b[0m\u001b[0mclm\u001b[0m\u001b[0;34m(\u001b[0m\u001b[0;34m)\u001b[0m\u001b[0;34m\u001b[0m\u001b[0m\n\u001b[0;32m---> 26\u001b[0;31m \u001b[0;32mprint\u001b[0m \u001b[0mo1\u001b[0m\u001b[0;34m.\u001b[0m\u001b[0mstat\u001b[0m\u001b[0;34m(\u001b[0m\u001b[0;34m)\u001b[0m\u001b[0;34m\u001b[0m\u001b[0m\n\u001b[0m\u001b[1;32m     27\u001b[0m \u001b[0;32mprint\u001b[0m \u001b[0mc1\u001b[0m\u001b[0;34m.\u001b[0m\u001b[0mstat\u001b[0m\u001b[0;34m(\u001b[0m\u001b[0;34m)\u001b[0m\u001b[0;34m\u001b[0m\u001b[0m\n",
      "\u001b[0;31mTypeError\u001b[0m: stat() takes exactly 1 argument (0 given)"
     ]
    }
   ],
   "source": [
    "class c1:\n",
    "    b=20\n",
    "    def __init__(self,a):\n",
    "        self.a=a\n",
    "    def inst1(self):\n",
    "        print \"self=\",self\n",
    "        print self.b\n",
    "        print self.a\n",
    "    @classmethod\n",
    "    def clm(cls):\n",
    "        print cls.b\n",
    "        print \"cls=\",cls\n",
    "        #print cls.a\n",
    "    @staticmethod\n",
    "    def stat(a123):\n",
    "        print a123\n",
    "        print \"this is static method\"\n",
    "    \n",
    "o1=c1(100)\n",
    "print \"o1=\",o1\n",
    "print \"c1=\",c1\n",
    "o1.inst1()\n",
    "o1.clm()\n",
    "print c1.b\n",
    "print c1.clm()\n",
    "print o1.stat()\n",
    "print c1.stat()"
   ]
  },
  {
   "cell_type": "code",
   "execution_count": 12,
   "metadata": {
    "collapsed": false
   },
   "outputs": [
    {
     "name": "stdout",
     "output_type": "stream",
     "text": [
      "o1= <__main__.c1 instance at 0x7f802c675560>\n",
      "c1= __main__.c1\n",
      "self= <__main__.c1 instance at 0x7f802c675560>\n",
      "20\n",
      "100\n",
      "20\n",
      "cls= __main__.c1\n",
      "20\n",
      "20\n",
      "cls= __main__.c1\n",
      "None\n",
      "1000\n",
      "this is static method\n",
      "None\n",
      "2000\n",
      "this is static method\n",
      "None\n"
     ]
    }
   ],
   "source": [
    "class c1:\n",
    "    b=20\n",
    "    def __init__(self,a):\n",
    "        self.a=a\n",
    "    def inst1(self):\n",
    "        print \"self=\",self\n",
    "        print self.b\n",
    "        print self.a\n",
    "    @classmethod\n",
    "    def clm(cls):\n",
    "        print cls.b\n",
    "        print \"cls=\",cls\n",
    "        #print cls.a\n",
    "    @staticmethod\n",
    "    def stat(a123):\n",
    "        print a123\n",
    "        print \"this is static method\"\n",
    "    \n",
    "o1=c1(100)\n",
    "print \"o1=\",o1\n",
    "print \"c1=\",c1\n",
    "o1.inst1()\n",
    "o1.clm()\n",
    "print c1.b\n",
    "print c1.clm()\n",
    "print o1.stat(1000)\n",
    "print c1.stat(2000)"
   ]
  },
  {
   "cell_type": "code",
   "execution_count": 15,
   "metadata": {
    "collapsed": false
   },
   "outputs": [
    {
     "name": "stdout",
     "output_type": "stream",
     "text": [
      "30\n"
     ]
    }
   ],
   "source": [
    "class c1:\n",
    "    def __init__(self,a,b):\n",
    "        self.a=a\n",
    "        self.b=b\n",
    "    def calc(self):\n",
    "        return self.a+self.b\n",
    "o1=c1(10,20)\n",
    "print o1.calc()"
   ]
  },
  {
   "cell_type": "code",
   "execution_count": 17,
   "metadata": {
    "collapsed": false
   },
   "outputs": [
    {
     "name": "stdout",
     "output_type": "stream",
     "text": [
      "10020\n"
     ]
    }
   ],
   "source": [
    "class c1:\n",
    "    def __init__(self,a,b):\n",
    "        self.a=a\n",
    "        self.b=b\n",
    "    def calc(self):\n",
    "        return self.a+self.b\n",
    "o1=c1(10,20)\n",
    "o1.a=10000\n",
    "print o1.calc()"
   ]
  },
  {
   "cell_type": "code",
   "execution_count": 19,
   "metadata": {
    "collapsed": false
   },
   "outputs": [
    {
     "name": "stdout",
     "output_type": "stream",
     "text": [
      "30\n"
     ]
    }
   ],
   "source": [
    "class c1:\n",
    "    def __init__(self,a,b):\n",
    "        self.__a=a\n",
    "        self.b=b\n",
    "    def calc(self):\n",
    "        return self.__a+self.b\n",
    "o1=c1(10,20)\n",
    "o1.__a=10000\n",
    "print o1.calc()"
   ]
  },
  {
   "cell_type": "code",
   "execution_count": null,
   "metadata": {
    "collapsed": true
   },
   "outputs": [],
   "source": []
  }
 ],
 "metadata": {
  "kernelspec": {
   "display_name": "Python 2",
   "language": "python",
   "name": "python2"
  },
  "language_info": {
   "codemirror_mode": {
    "name": "ipython",
    "version": 2
   },
   "file_extension": ".py",
   "mimetype": "text/x-python",
   "name": "python",
   "nbconvert_exporter": "python",
   "pygments_lexer": "ipython2",
   "version": "2.7.13"
  }
 },
 "nbformat": 4,
 "nbformat_minor": 2
}
